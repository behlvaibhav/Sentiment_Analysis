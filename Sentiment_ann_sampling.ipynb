{
 "cells": [
  {
   "cell_type": "code",
   "execution_count": 36,
   "metadata": {},
   "outputs": [],
   "source": [
    "import numpy as np\n",
    "import pandas as pd\n",
    "import matplotlib.pyplot as plt\n",
    "import tensorflow\n",
    "import keras\n",
    "%matplotlib inline"
   ]
  },
  {
   "cell_type": "code",
   "execution_count": 37,
   "metadata": {},
   "outputs": [],
   "source": [
    "df = pd.read_csv('train_E6oV3lV.csv')"
   ]
  },
  {
   "cell_type": "code",
   "execution_count": 38,
   "metadata": {},
   "outputs": [
    {
     "data": {
      "text/html": [
       "<div>\n",
       "<style scoped>\n",
       "    .dataframe tbody tr th:only-of-type {\n",
       "        vertical-align: middle;\n",
       "    }\n",
       "\n",
       "    .dataframe tbody tr th {\n",
       "        vertical-align: top;\n",
       "    }\n",
       "\n",
       "    .dataframe thead th {\n",
       "        text-align: right;\n",
       "    }\n",
       "</style>\n",
       "<table border=\"1\" class=\"dataframe\">\n",
       "  <thead>\n",
       "    <tr style=\"text-align: right;\">\n",
       "      <th></th>\n",
       "      <th>id</th>\n",
       "      <th>label</th>\n",
       "      <th>tweet</th>\n",
       "    </tr>\n",
       "  </thead>\n",
       "  <tbody>\n",
       "    <tr>\n",
       "      <th>0</th>\n",
       "      <td>1</td>\n",
       "      <td>0</td>\n",
       "      <td>@user when a father is dysfunctional and is s...</td>\n",
       "    </tr>\n",
       "    <tr>\n",
       "      <th>1</th>\n",
       "      <td>2</td>\n",
       "      <td>0</td>\n",
       "      <td>@user @user thanks for #lyft credit i can't us...</td>\n",
       "    </tr>\n",
       "    <tr>\n",
       "      <th>2</th>\n",
       "      <td>3</td>\n",
       "      <td>0</td>\n",
       "      <td>bihday your majesty</td>\n",
       "    </tr>\n",
       "    <tr>\n",
       "      <th>3</th>\n",
       "      <td>4</td>\n",
       "      <td>0</td>\n",
       "      <td>#model   i love u take with u all the time in ...</td>\n",
       "    </tr>\n",
       "    <tr>\n",
       "      <th>4</th>\n",
       "      <td>5</td>\n",
       "      <td>0</td>\n",
       "      <td>factsguide: society now    #motivation</td>\n",
       "    </tr>\n",
       "  </tbody>\n",
       "</table>\n",
       "</div>"
      ],
      "text/plain": [
       "   id  label                                              tweet\n",
       "0   1      0   @user when a father is dysfunctional and is s...\n",
       "1   2      0  @user @user thanks for #lyft credit i can't us...\n",
       "2   3      0                                bihday your majesty\n",
       "3   4      0  #model   i love u take with u all the time in ...\n",
       "4   5      0             factsguide: society now    #motivation"
      ]
     },
     "execution_count": 38,
     "metadata": {},
     "output_type": "execute_result"
    }
   ],
   "source": [
    "df.head()"
   ]
  },
  {
   "cell_type": "code",
   "execution_count": 39,
   "metadata": {},
   "outputs": [
    {
     "data": {
      "text/html": [
       "<div>\n",
       "<style scoped>\n",
       "    .dataframe tbody tr th:only-of-type {\n",
       "        vertical-align: middle;\n",
       "    }\n",
       "\n",
       "    .dataframe tbody tr th {\n",
       "        vertical-align: top;\n",
       "    }\n",
       "\n",
       "    .dataframe thead th {\n",
       "        text-align: right;\n",
       "    }\n",
       "</style>\n",
       "<table border=\"1\" class=\"dataframe\">\n",
       "  <thead>\n",
       "    <tr style=\"text-align: right;\">\n",
       "      <th></th>\n",
       "      <th>id</th>\n",
       "      <th>tweet</th>\n",
       "    </tr>\n",
       "    <tr>\n",
       "      <th>label</th>\n",
       "      <th></th>\n",
       "      <th></th>\n",
       "    </tr>\n",
       "  </thead>\n",
       "  <tbody>\n",
       "    <tr>\n",
       "      <th>0</th>\n",
       "      <td>29720</td>\n",
       "      <td>29720</td>\n",
       "    </tr>\n",
       "    <tr>\n",
       "      <th>1</th>\n",
       "      <td>2242</td>\n",
       "      <td>2242</td>\n",
       "    </tr>\n",
       "  </tbody>\n",
       "</table>\n",
       "</div>"
      ],
      "text/plain": [
       "          id  tweet\n",
       "label              \n",
       "0      29720  29720\n",
       "1       2242   2242"
      ]
     },
     "execution_count": 39,
     "metadata": {},
     "output_type": "execute_result"
    }
   ],
   "source": [
    "df.groupby('label').count()"
   ]
  },
  {
   "cell_type": "code",
   "execution_count": 40,
   "metadata": {},
   "outputs": [],
   "source": [
    "df1 = df.query('label==1').sample(frac=1.0)"
   ]
  },
  {
   "cell_type": "code",
   "execution_count": 41,
   "metadata": {},
   "outputs": [
    {
     "data": {
      "text/plain": [
       "(2242, 3)"
      ]
     },
     "execution_count": 41,
     "metadata": {},
     "output_type": "execute_result"
    }
   ],
   "source": [
    "df1.shape"
   ]
  },
  {
   "cell_type": "code",
   "execution_count": 42,
   "metadata": {},
   "outputs": [
    {
     "data": {
      "text/html": [
       "<div>\n",
       "<style scoped>\n",
       "    .dataframe tbody tr th:only-of-type {\n",
       "        vertical-align: middle;\n",
       "    }\n",
       "\n",
       "    .dataframe tbody tr th {\n",
       "        vertical-align: top;\n",
       "    }\n",
       "\n",
       "    .dataframe thead th {\n",
       "        text-align: right;\n",
       "    }\n",
       "</style>\n",
       "<table border=\"1\" class=\"dataframe\">\n",
       "  <thead>\n",
       "    <tr style=\"text-align: right;\">\n",
       "      <th></th>\n",
       "      <th>id</th>\n",
       "      <th>tweet</th>\n",
       "    </tr>\n",
       "    <tr>\n",
       "      <th>label</th>\n",
       "      <th></th>\n",
       "      <th></th>\n",
       "    </tr>\n",
       "  </thead>\n",
       "  <tbody>\n",
       "    <tr>\n",
       "      <th>0</th>\n",
       "      <td>29720</td>\n",
       "      <td>29720</td>\n",
       "    </tr>\n",
       "    <tr>\n",
       "      <th>1</th>\n",
       "      <td>4484</td>\n",
       "      <td>4484</td>\n",
       "    </tr>\n",
       "  </tbody>\n",
       "</table>\n",
       "</div>"
      ],
      "text/plain": [
       "          id  tweet\n",
       "label              \n",
       "0      29720  29720\n",
       "1       4484   4484"
      ]
     },
     "execution_count": 42,
     "metadata": {},
     "output_type": "execute_result"
    }
   ],
   "source": [
    "n_df = pd.concat([df,df1],ignore_index=True)\n",
    "n_df.groupby('label').count()"
   ]
  },
  {
   "cell_type": "code",
   "execution_count": 43,
   "metadata": {},
   "outputs": [],
   "source": [
    "count_class_0, count_class_1 = df['label'].value_counts()"
   ]
  },
  {
   "cell_type": "code",
   "execution_count": 44,
   "metadata": {},
   "outputs": [],
   "source": [
    "df_class_0 =  df.query('label==0')\n",
    "df_class_1 =  df.query('label==1')"
   ]
  },
  {
   "cell_type": "code",
   "execution_count": 45,
   "metadata": {},
   "outputs": [],
   "source": [
    "df_class_0_under = df_class_0.sample(count_class_1)\n",
    "df_under = pd.concat([df_class_0_under, df_class_1],ignore_index=True ,axis=0)"
   ]
  },
  {
   "cell_type": "code",
   "execution_count": 46,
   "metadata": {},
   "outputs": [
    {
     "data": {
      "text/plain": [
       "(4484, 3)"
      ]
     },
     "execution_count": 46,
     "metadata": {},
     "output_type": "execute_result"
    }
   ],
   "source": [
    "df_under.shape"
   ]
  },
  {
   "cell_type": "code",
   "execution_count": 47,
   "metadata": {},
   "outputs": [
    {
     "data": {
      "text/html": [
       "<div>\n",
       "<style scoped>\n",
       "    .dataframe tbody tr th:only-of-type {\n",
       "        vertical-align: middle;\n",
       "    }\n",
       "\n",
       "    .dataframe tbody tr th {\n",
       "        vertical-align: top;\n",
       "    }\n",
       "\n",
       "    .dataframe thead th {\n",
       "        text-align: right;\n",
       "    }\n",
       "</style>\n",
       "<table border=\"1\" class=\"dataframe\">\n",
       "  <thead>\n",
       "    <tr style=\"text-align: right;\">\n",
       "      <th></th>\n",
       "      <th>id</th>\n",
       "      <th>tweet</th>\n",
       "    </tr>\n",
       "    <tr>\n",
       "      <th>label</th>\n",
       "      <th></th>\n",
       "      <th></th>\n",
       "    </tr>\n",
       "  </thead>\n",
       "  <tbody>\n",
       "    <tr>\n",
       "      <th>0</th>\n",
       "      <td>2242</td>\n",
       "      <td>2242</td>\n",
       "    </tr>\n",
       "    <tr>\n",
       "      <th>1</th>\n",
       "      <td>2242</td>\n",
       "      <td>2242</td>\n",
       "    </tr>\n",
       "  </tbody>\n",
       "</table>\n",
       "</div>"
      ],
      "text/plain": [
       "         id  tweet\n",
       "label             \n",
       "0      2242   2242\n",
       "1      2242   2242"
      ]
     },
     "execution_count": 47,
     "metadata": {},
     "output_type": "execute_result"
    }
   ],
   "source": [
    "df_under.groupby('label').count()"
   ]
  },
  {
   "cell_type": "code",
   "execution_count": 48,
   "metadata": {},
   "outputs": [],
   "source": [
    "df = df_under"
   ]
  },
  {
   "cell_type": "code",
   "execution_count": 49,
   "metadata": {},
   "outputs": [],
   "source": [
    "X = df['tweet']\n",
    "Y = df['label']\n",
    "Y_org = Y"
   ]
  },
  {
   "cell_type": "code",
   "execution_count": 50,
   "metadata": {},
   "outputs": [],
   "source": [
    "from keras.preprocessing.text import Tokenizer\n",
    "max_features = 10000\n",
    "tokenizer = Tokenizer(num_words=max_features, filters='!\"#$%&()*+,-./:;<=>?@[\\]^_`{|}~', split=' ', lower=True, char_level=False, oov_token=None)\n",
    "tokenizer.fit_on_texts(X.values)\n",
    "X = tokenizer.texts_to_sequences(X.values)\n",
    "\n",
    "# add padding\n",
    "from keras.preprocessing.sequence import pad_sequences\n",
    "X = pad_sequences(X, maxlen=400)"
   ]
  },
  {
   "cell_type": "code",
   "execution_count": 51,
   "metadata": {},
   "outputs": [
    {
     "data": {
      "text/plain": [
       "'im getting my ps4 tomorrow ð\\x9f\\x98±ð\\x9f\\x92\\x96ð\\x9f\\x98±ð\\x9f\\x92\\x96ð\\x9f\\x92\\x96ð\\x9f\\x92\\x96ð\\x9f\\x92\\x96ð\\x9f\\x98±ð\\x9f\\x98±ð\\x9f\\x98±ð\\x9f\\x92\\x96ð\\x9f\\x92\\x96ð\\x9f\\x92\\x96ð\\x9f\\x92\\x96ð\\x9f\\x98±ð\\x9f\\x92\\x96ð\\x9f\\x98±ð\\x9f\\x98±ð\\x9f\\x98±ð\\x9f\\x98±ð\\x9f\\x98\\x8dð\\x9f\\x98\\x8dð\\x9f\\x98\\x8dð\\x9f\\x98\\x8d cant wait #ps4 #gamer   #omg #otaku #yas'"
      ]
     },
     "execution_count": 51,
     "metadata": {},
     "output_type": "execute_result"
    }
   ],
   "source": [
    "max(df['tweet'], key=len)"
   ]
  },
  {
   "cell_type": "code",
   "execution_count": 52,
   "metadata": {},
   "outputs": [
    {
     "name": "stderr",
     "output_type": "stream",
     "text": [
      "C:\\Users\\Vaibhav\\Anaconda3\\lib\\site-packages\\sklearn\\utils\\validation.py:475: DataConversionWarning: Data with input dtype int32 was converted to float64 by StandardScaler.\n",
      "  warnings.warn(msg, DataConversionWarning)\n"
     ]
    }
   ],
   "source": [
    "from sklearn.preprocessing import StandardScaler\n",
    "scaler = StandardScaler()\n",
    "X = scaler.fit(X).transform(X)"
   ]
  },
  {
   "cell_type": "code",
   "execution_count": 53,
   "metadata": {},
   "outputs": [],
   "source": [
    "from sklearn.decomposition import PCA\n",
    "pca = PCA(n_components = 35)\n",
    "pca.fit(X)\n",
    "X = pca.transform(X);"
   ]
  },
  {
   "cell_type": "code",
   "execution_count": 54,
   "metadata": {},
   "outputs": [
    {
     "data": {
      "image/png": "[encoded data removed]",
      "text/plain": [
       "<Figure size 432x288 with 1 Axes>"
      ]
     },
     "metadata": {},
     "output_type": "display_data"
    }
   ],
   "source": [
    "plt.plot(np.cumsum(pca.explained_variance_ratio_)*100)\n",
    "plt.xlabel(\"No. of components\")\n",
    "plt.ylabel(\"cummulative explained Variance\");"
   ]
  },
  {
   "cell_type": "code",
   "execution_count": 55,
   "metadata": {},
   "outputs": [],
   "source": [
    "from sklearn.model_selection import train_test_split\n",
    "X_train,X_test,Y_train,Y_test = train_test_split(X,Y,test_size = 0.2, random_state= 42)"
   ]
  },
  {
   "cell_type": "code",
   "execution_count": 56,
   "metadata": {},
   "outputs": [],
   "source": [
    "from keras.models import Sequential\n",
    "from keras.layers import Dense\n",
    "from keras.layers import Dropout"
   ]
  },
  {
   "cell_type": "code",
   "execution_count": 57,
   "metadata": {},
   "outputs": [],
   "source": [
    "classifier = Sequential()\n",
    "classifier.add(Dense(units= 20,kernel_initializer= 'uniform', activation='relu' ,input_dim =X.shape[1]))\n",
    "classifier.add(Dropout(0.1))"
   ]
  },
  {
   "cell_type": "code",
   "execution_count": 58,
   "metadata": {},
   "outputs": [],
   "source": [
    "classifier.add(Dense(units= 20,kernel_initializer= 'uniform', activation='relu'))\n",
    "classifier.add(Dropout(0.1))\n",
    "classifier.add(Dense(units= 20,kernel_initializer= 'uniform', activation='relu'))\n",
    "classifier.add(Dropout(0.2))\n",
    "classifier.add(Dense(2,kernel_initializer='uniform', activation='sigmoid'))"
   ]
  },
  {
   "cell_type": "code",
   "execution_count": 59,
   "metadata": {},
   "outputs": [],
   "source": [
    "classifier.compile(optimizer='adam', loss='binary_crossentropy', metrics= ['accuracy'])"
   ]
  },
  {
   "cell_type": "code",
   "execution_count": 60,
   "metadata": {},
   "outputs": [],
   "source": [
    "from sklearn.preprocessing import OneHotEncoder\n",
    "y_e = OneHotEncoder()\n",
    "Y_train_org = Y_train\n",
    "Y_test_org = Y_test\n",
    "Y_train = np.array(Y_train)\n",
    "Y_test = np.array(Y_test)\n",
    "Y_train = Y_train.reshape(-1, 1)\n",
    "Y_test = Y_test.reshape(-1, 1)\n",
    "y_e.fit(Y_train)\n",
    "Y_train = y_e.transform(Y_train)\n",
    "Y_test = y_e.transform(Y_test)"
   ]
  },
  {
   "cell_type": "code",
   "execution_count": 61,
   "metadata": {},
   "outputs": [
    {
     "data": {
      "text/plain": [
       "<3587x2 sparse matrix of type '<class 'numpy.float64'>'\n",
       "\twith 3587 stored elements in Compressed Sparse Row format>"
      ]
     },
     "execution_count": 61,
     "metadata": {},
     "output_type": "execute_result"
    }
   ],
   "source": [
    "Y_train"
   ]
  },
  {
   "cell_type": "code",
   "execution_count": 62,
   "metadata": {},
   "outputs": [
    {
     "data": {
      "text/plain": [
       "<897x2 sparse matrix of type '<class 'numpy.float64'>'\n",
       "\twith 897 stored elements in Compressed Sparse Row format>"
      ]
     },
     "execution_count": 62,
     "metadata": {},
     "output_type": "execute_result"
    }
   ],
   "source": [
    "Y_test"
   ]
  },
  {
   "cell_type": "code",
   "execution_count": 63,
   "metadata": {},
   "outputs": [
    {
     "name": "stdout",
     "output_type": "stream",
     "text": [
      "Train on 3587 samples, validate on 897 samples\n",
      "Epoch 1/100\n",
      "3587/3587 [==============================] - 2s 438us/step - loss: 0.6912 - acc: 0.5749 - val_loss: 0.6779 - val_acc: 0.6572\n",
      "Epoch 2/100\n",
      "3587/3587 [==============================] - 1s 148us/step - loss: 0.6402 - acc: 0.6649 - val_loss: 0.6390 - val_acc: 0.6577\n",
      "Epoch 3/100\n",
      "3587/3587 [==============================] - 0s 100us/step - loss: 0.6251 - acc: 0.6709 - val_loss: 0.6356 - val_acc: 0.6605\n",
      "Epoch 4/100\n",
      "3587/3587 [==============================] - 0s 109us/step - loss: 0.6219 - acc: 0.6762 - val_loss: 0.6357 - val_acc: 0.6577\n",
      "Epoch 5/100\n",
      "3587/3587 [==============================] - 0s 93us/step - loss: 0.6212 - acc: 0.6781 - val_loss: 0.6363 - val_acc: 0.6544\n",
      "Epoch 6/100\n",
      "3587/3587 [==============================] - 0s 93us/step - loss: 0.6126 - acc: 0.6864 - val_loss: 0.6385 - val_acc: 0.6600\n",
      "Epoch 7/100\n",
      "3587/3587 [==============================] - 0s 107us/step - loss: 0.6167 - acc: 0.6857 - val_loss: 0.6346 - val_acc: 0.6722\n",
      "Epoch 8/100\n",
      "3587/3587 [==============================] - 0s 111us/step - loss: 0.6137 - acc: 0.6859 - val_loss: 0.6334 - val_acc: 0.6750\n",
      "Epoch 9/100\n",
      "3587/3587 [==============================] - 0s 96us/step - loss: 0.6086 - acc: 0.6943 - val_loss: 0.6333 - val_acc: 0.6706\n",
      "Epoch 10/100\n",
      "3587/3587 [==============================] - 0s 97us/step - loss: 0.6079 - acc: 0.6921 - val_loss: 0.6349 - val_acc: 0.6728\n",
      "Epoch 11/100\n",
      "3587/3587 [==============================] - 0s 100us/step - loss: 0.6053 - acc: 0.6968 - val_loss: 0.6375 - val_acc: 0.6745\n",
      "Epoch 12/100\n",
      "3587/3587 [==============================] - 0s 90us/step - loss: 0.6050 - acc: 0.7002 - val_loss: 0.6361 - val_acc: 0.6656\n",
      "Epoch 13/100\n",
      "3587/3587 [==============================] - 0s 91us/step - loss: 0.5979 - acc: 0.7055 - val_loss: 0.6352 - val_acc: 0.6633\n",
      "Epoch 14/100\n",
      "3587/3587 [==============================] - 0s 103us/step - loss: 0.5983 - acc: 0.7042 - val_loss: 0.6358 - val_acc: 0.6734\n",
      "Epoch 15/100\n",
      "3587/3587 [==============================] - 0s 100us/step - loss: 0.5972 - acc: 0.7021 - val_loss: 0.6333 - val_acc: 0.6722\n",
      "Epoch 16/100\n",
      "3587/3587 [==============================] - 0s 99us/step - loss: 0.5951 - acc: 0.7110 - val_loss: 0.6328 - val_acc: 0.6734\n",
      "Epoch 17/100\n",
      "3587/3587 [==============================] - 0s 95us/step - loss: 0.5928 - acc: 0.7102 - val_loss: 0.6351 - val_acc: 0.6600\n",
      "Epoch 18/100\n",
      "3587/3587 [==============================] - 0s 98us/step - loss: 0.5871 - acc: 0.7126 - val_loss: 0.6286 - val_acc: 0.6789\n",
      "Epoch 19/100\n",
      "3587/3587 [==============================] - 0s 93us/step - loss: 0.5843 - acc: 0.7141 - val_loss: 0.6282 - val_acc: 0.6756\n",
      "Epoch 20/100\n",
      "3587/3587 [==============================] - 0s 93us/step - loss: 0.5858 - acc: 0.7129 - val_loss: 0.6294 - val_acc: 0.6633\n",
      "Epoch 21/100\n",
      "3587/3587 [==============================] - 0s 104us/step - loss: 0.5864 - acc: 0.7081 - val_loss: 0.6267 - val_acc: 0.6734\n",
      "Epoch 22/100\n",
      "3587/3587 [==============================] - 0s 107us/step - loss: 0.5811 - acc: 0.7133 - val_loss: 0.6294 - val_acc: 0.6734\n",
      "Epoch 23/100\n",
      "3587/3587 [==============================] - 0s 101us/step - loss: 0.5844 - acc: 0.7158 - val_loss: 0.6199 - val_acc: 0.6867\n",
      "Epoch 24/100\n",
      "3587/3587 [==============================] - 0s 104us/step - loss: 0.5820 - acc: 0.7195 - val_loss: 0.6206 - val_acc: 0.6856\n",
      "Epoch 25/100\n",
      "3587/3587 [==============================] - 0s 95us/step - loss: 0.5762 - acc: 0.7149 - val_loss: 0.6166 - val_acc: 0.6906\n",
      "Epoch 26/100\n",
      "3587/3587 [==============================] - 0s 89us/step - loss: 0.5709 - acc: 0.7271 - val_loss: 0.6166 - val_acc: 0.6867\n",
      "Epoch 27/100\n",
      "3587/3587 [==============================] - 0s 93us/step - loss: 0.5687 - acc: 0.7293 - val_loss: 0.6131 - val_acc: 0.6806\n",
      "Epoch 28/100\n",
      "3587/3587 [==============================] - 0s 102us/step - loss: 0.5686 - acc: 0.7243 - val_loss: 0.6195 - val_acc: 0.6834\n",
      "Epoch 29/100\n",
      "3587/3587 [==============================] - 0s 95us/step - loss: 0.5673 - acc: 0.7247 - val_loss: 0.6151 - val_acc: 0.6856\n",
      "Epoch 30/100\n",
      "3587/3587 [==============================] - 0s 91us/step - loss: 0.5557 - acc: 0.7343 - val_loss: 0.6125 - val_acc: 0.6940\n",
      "Epoch 31/100\n",
      "3587/3587 [==============================] - 0s 92us/step - loss: 0.5646 - acc: 0.7279 - val_loss: 0.6113 - val_acc: 0.6890\n",
      "Epoch 32/100\n",
      "3587/3587 [==============================] - 0s 90us/step - loss: 0.5562 - acc: 0.7324 - val_loss: 0.6175 - val_acc: 0.6812\n",
      "Epoch 33/100\n",
      "3587/3587 [==============================] - 0s 81us/step - loss: 0.5535 - acc: 0.7332 - val_loss: 0.6069 - val_acc: 0.6867\n",
      "Epoch 34/100\n",
      "3587/3587 [==============================] - 0s 106us/step - loss: 0.5595 - acc: 0.7331 - val_loss: 0.6167 - val_acc: 0.6767\n",
      "Epoch 35/100\n",
      "3587/3587 [==============================] - 0s 106us/step - loss: 0.5583 - acc: 0.7292 - val_loss: 0.6084 - val_acc: 0.6789\n",
      "Epoch 36/100\n",
      "3587/3587 [==============================] - 0s 113us/step - loss: 0.5546 - acc: 0.7367 - val_loss: 0.5968 - val_acc: 0.6912\n",
      "Epoch 37/100\n",
      "3587/3587 [==============================] - 0s 103us/step - loss: 0.5471 - acc: 0.7400 - val_loss: 0.5984 - val_acc: 0.6984\n",
      "Epoch 38/100\n",
      "3587/3587 [==============================] - 0s 101us/step - loss: 0.5494 - acc: 0.7375 - val_loss: 0.6014 - val_acc: 0.6878\n",
      "Epoch 39/100\n",
      "3587/3587 [==============================] - 0s 88us/step - loss: 0.5481 - acc: 0.7441 - val_loss: 0.5966 - val_acc: 0.6979\n",
      "Epoch 40/100\n",
      "3587/3587 [==============================] - 0s 93us/step - loss: 0.5468 - acc: 0.7402 - val_loss: 0.6013 - val_acc: 0.6912\n",
      "Epoch 41/100\n",
      "3587/3587 [==============================] - 0s 98us/step - loss: 0.5426 - acc: 0.7418 - val_loss: 0.6010 - val_acc: 0.6890\n",
      "Epoch 42/100\n",
      "3587/3587 [==============================] - 0s 110us/step - loss: 0.5386 - acc: 0.7431 - val_loss: 0.5984 - val_acc: 0.6973\n",
      "Epoch 43/100\n",
      "3587/3587 [==============================] - 0s 96us/step - loss: 0.5389 - acc: 0.7428 - val_loss: 0.6020 - val_acc: 0.6968\n",
      "Epoch 44/100\n",
      "3587/3587 [==============================] - 0s 96us/step - loss: 0.5314 - acc: 0.7492 - val_loss: 0.5953 - val_acc: 0.7101\n",
      "Epoch 45/100\n",
      "3587/3587 [==============================] - 0s 106us/step - loss: 0.5360 - acc: 0.7416 - val_loss: 0.6008 - val_acc: 0.6940\n",
      "Epoch 46/100\n",
      "3587/3587 [==============================] - 0s 90us/step - loss: 0.5322 - acc: 0.7459 - val_loss: 0.5972 - val_acc: 0.6923\n",
      "Epoch 47/100\n",
      "3587/3587 [==============================] - 0s 101us/step - loss: 0.5361 - acc: 0.7403 - val_loss: 0.5981 - val_acc: 0.6918\n",
      "Epoch 48/100\n",
      "3587/3587 [==============================] - 0s 105us/step - loss: 0.5275 - acc: 0.7432 - val_loss: 0.5960 - val_acc: 0.7035\n",
      "Epoch 49/100\n",
      "3587/3587 [==============================] - 0s 98us/step - loss: 0.5355 - acc: 0.7445 - val_loss: 0.5991 - val_acc: 0.6906\n",
      "Epoch 50/100\n",
      "3587/3587 [==============================] - 0s 98us/step - loss: 0.5281 - acc: 0.7517 - val_loss: 0.5938 - val_acc: 0.7035\n",
      "Epoch 51/100\n",
      "3587/3587 [==============================] - 0s 113us/step - loss: 0.5226 - acc: 0.7544 - val_loss: 0.5982 - val_acc: 0.6957\n",
      "Epoch 52/100\n",
      "3587/3587 [==============================] - 0s 100us/step - loss: 0.5282 - acc: 0.7485 - val_loss: 0.6035 - val_acc: 0.7124\n",
      "Epoch 53/100\n",
      "3587/3587 [==============================] - 0s 91us/step - loss: 0.5209 - acc: 0.7522 - val_loss: 0.6019 - val_acc: 0.7113\n",
      "Epoch 54/100\n",
      "3587/3587 [==============================] - 0s 106us/step - loss: 0.5297 - acc: 0.7439 - val_loss: 0.6113 - val_acc: 0.7057\n",
      "Epoch 55/100\n",
      "3587/3587 [==============================] - 0s 106us/step - loss: 0.5220 - acc: 0.7580 - val_loss: 0.6117 - val_acc: 0.7068\n",
      "Epoch 56/100\n",
      "3587/3587 [==============================] - 0s 107us/step - loss: 0.5212 - acc: 0.7501 - val_loss: 0.6099 - val_acc: 0.7079\n",
      "Epoch 57/100\n",
      "3587/3587 [==============================] - 0s 105us/step - loss: 0.5285 - acc: 0.7467 - val_loss: 0.6074 - val_acc: 0.7012\n",
      "Epoch 58/100\n",
      "3587/3587 [==============================] - 0s 110us/step - loss: 0.5219 - acc: 0.7494 - val_loss: 0.6088 - val_acc: 0.7101\n",
      "Epoch 59/100\n",
      "3587/3587 [==============================] - 0s 104us/step - loss: 0.5232 - acc: 0.7529 - val_loss: 0.6102 - val_acc: 0.6945\n",
      "Epoch 60/100\n"
     ]
    },
    {
     "name": "stdout",
     "output_type": "stream",
     "text": [
      "3587/3587 [==============================] - 0s 86us/step - loss: 0.5216 - acc: 0.7540 - val_loss: 0.6104 - val_acc: 0.6968\n",
      "Epoch 61/100\n",
      "3587/3587 [==============================] - 0s 85us/step - loss: 0.5183 - acc: 0.7520 - val_loss: 0.6122 - val_acc: 0.7012\n",
      "Epoch 62/100\n",
      "3587/3587 [==============================] - 0s 88us/step - loss: 0.5168 - acc: 0.7497 - val_loss: 0.6108 - val_acc: 0.7057\n",
      "Epoch 63/100\n",
      "3587/3587 [==============================] - 0s 95us/step - loss: 0.5088 - acc: 0.7582 - val_loss: 0.6179 - val_acc: 0.7046\n",
      "Epoch 64/100\n",
      "3587/3587 [==============================] - 0s 92us/step - loss: 0.5272 - acc: 0.7478 - val_loss: 0.6102 - val_acc: 0.7051\n",
      "Epoch 65/100\n",
      "3587/3587 [==============================] - 0s 91us/step - loss: 0.5141 - acc: 0.7572 - val_loss: 0.6054 - val_acc: 0.7079\n",
      "Epoch 66/100\n",
      "3587/3587 [==============================] - 0s 84us/step - loss: 0.5118 - acc: 0.7579 - val_loss: 0.6088 - val_acc: 0.7079\n",
      "Epoch 67/100\n",
      "3587/3587 [==============================] - 0s 77us/step - loss: 0.5246 - acc: 0.7492 - val_loss: 0.6052 - val_acc: 0.7101\n",
      "Epoch 68/100\n",
      "3587/3587 [==============================] - 0s 86us/step - loss: 0.5138 - acc: 0.7602 - val_loss: 0.6071 - val_acc: 0.7113\n",
      "Epoch 69/100\n",
      "3587/3587 [==============================] - 0s 87us/step - loss: 0.5134 - acc: 0.7534 - val_loss: 0.6131 - val_acc: 0.7046\n",
      "Epoch 70/100\n",
      "3587/3587 [==============================] - 0s 83us/step - loss: 0.5129 - acc: 0.7541 - val_loss: 0.6133 - val_acc: 0.7046\n",
      "Epoch 71/100\n",
      "3587/3587 [==============================] - 0s 85us/step - loss: 0.5192 - acc: 0.7494 - val_loss: 0.6079 - val_acc: 0.6990\n",
      "Epoch 72/100\n",
      "3587/3587 [==============================] - 0s 92us/step - loss: 0.5145 - acc: 0.7559 - val_loss: 0.6162 - val_acc: 0.7074\n",
      "Epoch 73/100\n",
      "3587/3587 [==============================] - 0s 85us/step - loss: 0.5076 - acc: 0.7628 - val_loss: 0.6079 - val_acc: 0.7068\n",
      "Epoch 74/100\n",
      "3587/3587 [==============================] - 0s 77us/step - loss: 0.5061 - acc: 0.7637 - val_loss: 0.6095 - val_acc: 0.7096\n",
      "Epoch 75/100\n",
      "3587/3587 [==============================] - 0s 93us/step - loss: 0.5135 - acc: 0.7611 - val_loss: 0.6151 - val_acc: 0.7096\n",
      "Epoch 76/100\n",
      "3587/3587 [==============================] - 0s 91us/step - loss: 0.5068 - acc: 0.7597 - val_loss: 0.6087 - val_acc: 0.7146\n",
      "Epoch 77/100\n",
      "3587/3587 [==============================] - 0s 88us/step - loss: 0.5094 - acc: 0.7598 - val_loss: 0.6131 - val_acc: 0.6968\n",
      "Epoch 78/100\n",
      "3587/3587 [==============================] - 0s 88us/step - loss: 0.5103 - acc: 0.7570 - val_loss: 0.6138 - val_acc: 0.7079\n",
      "Epoch 79/100\n",
      "3587/3587 [==============================] - 0s 87us/step - loss: 0.5040 - acc: 0.7600 - val_loss: 0.6123 - val_acc: 0.6990\n",
      "Epoch 80/100\n",
      "3587/3587 [==============================] - 0s 80us/step - loss: 0.5024 - acc: 0.7651 - val_loss: 0.6193 - val_acc: 0.7068\n",
      "Epoch 81/100\n",
      "3587/3587 [==============================] - 0s 86us/step - loss: 0.5093 - acc: 0.7621 - val_loss: 0.6156 - val_acc: 0.7001\n",
      "Epoch 82/100\n",
      "3587/3587 [==============================] - 0s 86us/step - loss: 0.5079 - acc: 0.7611 - val_loss: 0.6181 - val_acc: 0.7023\n",
      "Epoch 83/100\n",
      "3587/3587 [==============================] - 0s 89us/step - loss: 0.4994 - acc: 0.7667 - val_loss: 0.6147 - val_acc: 0.7023\n",
      "Epoch 84/100\n",
      "3587/3587 [==============================] - 0s 97us/step - loss: 0.5045 - acc: 0.7669 - val_loss: 0.6221 - val_acc: 0.7079\n",
      "Epoch 85/100\n",
      "3587/3587 [==============================] - 0s 82us/step - loss: 0.4956 - acc: 0.7683 - val_loss: 0.6197 - val_acc: 0.7146\n",
      "Epoch 86/100\n",
      "3587/3587 [==============================] - 0s 89us/step - loss: 0.4997 - acc: 0.7689 - val_loss: 0.6126 - val_acc: 0.7124\n",
      "Epoch 87/100\n",
      "3587/3587 [==============================] - 0s 81us/step - loss: 0.5056 - acc: 0.7602 - val_loss: 0.6097 - val_acc: 0.7079\n",
      "Epoch 88/100\n",
      "3587/3587 [==============================] - 0s 90us/step - loss: 0.4995 - acc: 0.7640 - val_loss: 0.6271 - val_acc: 0.6979\n",
      "Epoch 89/100\n",
      "3587/3587 [==============================] - 0s 85us/step - loss: 0.5002 - acc: 0.7648 - val_loss: 0.6120 - val_acc: 0.7101\n",
      "Epoch 90/100\n",
      "3587/3587 [==============================] - 0s 96us/step - loss: 0.5006 - acc: 0.7619 - val_loss: 0.6230 - val_acc: 0.7046\n",
      "Epoch 91/100\n",
      "3587/3587 [==============================] - 0s 89us/step - loss: 0.5066 - acc: 0.7621 - val_loss: 0.6118 - val_acc: 0.7035\n",
      "Epoch 92/100\n",
      "3587/3587 [==============================] - 0s 90us/step - loss: 0.5028 - acc: 0.7640 - val_loss: 0.6196 - val_acc: 0.7068\n",
      "Epoch 93/100\n",
      "3587/3587 [==============================] - 0s 81us/step - loss: 0.4943 - acc: 0.7704 - val_loss: 0.6197 - val_acc: 0.7035\n",
      "Epoch 94/100\n",
      "3587/3587 [==============================] - 0s 81us/step - loss: 0.5140 - acc: 0.7630 - val_loss: 0.6103 - val_acc: 0.7168\n",
      "Epoch 95/100\n",
      "3587/3587 [==============================] - 0s 88us/step - loss: 0.5044 - acc: 0.7675 - val_loss: 0.6117 - val_acc: 0.7079\n",
      "Epoch 96/100\n",
      "3587/3587 [==============================] - 0s 93us/step - loss: 0.4913 - acc: 0.7686 - val_loss: 0.6128 - val_acc: 0.7035\n",
      "Epoch 97/100\n",
      "3587/3587 [==============================] - 0s 88us/step - loss: 0.4972 - acc: 0.7722 - val_loss: 0.6203 - val_acc: 0.7113\n",
      "Epoch 98/100\n",
      "3587/3587 [==============================] - 0s 86us/step - loss: 0.5038 - acc: 0.7672 - val_loss: 0.6116 - val_acc: 0.7118\n",
      "Epoch 99/100\n",
      "3587/3587 [==============================] - 0s 86us/step - loss: 0.5085 - acc: 0.7598 - val_loss: 0.6191 - val_acc: 0.7012\n",
      "Epoch 100/100\n",
      "3587/3587 [==============================] - 0s 88us/step - loss: 0.4962 - acc: 0.7664 - val_loss: 0.6218 - val_acc: 0.7057\n"
     ]
    }
   ],
   "source": [
    "checker = classifier.fit(X_train, Y_train, batch_size=32, epochs=100, validation_data = (X_test, Y_test))"
   ]
  },
  {
   "cell_type": "code",
   "execution_count": 64,
   "metadata": {},
   "outputs": [],
   "source": [
    "Y_pred_test_label = classifier.predict(X_test)\n",
    "y_pred_test=np.argmax(Y_pred_test_label,axis =1)\n",
    "y_pred_test\n",
    "Y_pred_train_label = classifier.predict(X_train)\n",
    "y_pred_train = np.argmax(Y_pred_train_label,axis=1)\n",
    "Y_test_true = Y_test_org.astype(np.int)\n",
    "Y_train_true = Y_train_org.astype(np.int)"
   ]
  },
  {
   "cell_type": "code",
   "execution_count": 65,
   "metadata": {},
   "outputs": [
    {
     "name": "stdout",
     "output_type": "stream",
     "text": [
      "             precision    recall  f1-score   support\n",
      "\n",
      "          0       0.76      0.59      0.66       443\n",
      "          1       0.67      0.82      0.74       454\n",
      "\n",
      "avg / total       0.72      0.71      0.70       897\n",
      "\n"
     ]
    }
   ],
   "source": [
    "from sklearn.metrics import classification_report\n",
    "print(classification_report(Y_test_true,y_pred_test))"
   ]
  },
  {
   "cell_type": "code",
   "execution_count": 66,
   "metadata": {},
   "outputs": [
    {
     "name": "stdout",
     "output_type": "stream",
     "text": [
      "             precision    recall  f1-score   support\n",
      "\n",
      "          0       0.88      0.69      0.77      1799\n",
      "          1       0.74      0.90      0.82      1788\n",
      "\n",
      "avg / total       0.81      0.80      0.79      3587\n",
      "\n"
     ]
    }
   ],
   "source": [
    "print(classification_report(Y_train_true,y_pred_train))"
   ]
  },
  {
   "cell_type": "code",
   "execution_count": 67,
   "metadata": {},
   "outputs": [],
   "source": [
    "from sklearn.metrics import confusion_matrix"
   ]
  },
  {
   "cell_type": "code",
   "execution_count": 68,
   "metadata": {},
   "outputs": [
    {
     "name": "stdout",
     "output_type": "stream",
     "text": [
      "TRAIN:  \n",
      " [[1240  173]\n",
      " [ 559 1615]]\n",
      "\n",
      "Test:  \n",
      " [[260  81]\n",
      " [183 373]]\n"
     ]
    }
   ],
   "source": [
    "### for softmax function\n",
    "print(\"TRAIN:  \\n\",confusion_matrix(y_pred_train,Y_train_true))\n",
    "print(\"\\nTest:  \\n\",confusion_matrix(y_pred_test,Y_test_true))"
   ]
  },
  {
   "cell_type": "code",
   "execution_count": 69,
   "metadata": {},
   "outputs": [
    {
     "name": "stdout",
     "output_type": "stream",
     "text": [
      "TRAIN:  \n",
      " [[1240  173]\n",
      " [ 559 1615]]\n",
      "\n",
      "Test:  \n",
      " [[260  81]\n",
      " [183 373]]\n"
     ]
    }
   ],
   "source": [
    "### for sigmoid function\n",
    "print(\"TRAIN:  \\n\",confusion_matrix(y_pred_train,Y_train_true))\n",
    "print(\"\\nTest:  \\n\",confusion_matrix(y_pred_test,Y_test_true))"
   ]
  },
  {
   "cell_type": "code",
   "execution_count": null,
   "metadata": {},
   "outputs": [],
   "source": []
  },
  {
   "cell_type": "code",
   "execution_count": null,
   "metadata": {},
   "outputs": [],
   "source": []
  },
  {
   "cell_type": "code",
   "execution_count": null,
   "metadata": {},
   "outputs": [],
   "source": []
  }
 ],
 "metadata": {
  "kernelspec": {
   "display_name": "Python 3",
   "language": "python",
   "name": "python3"
  },
  "language_info": {
   "codemirror_mode": {
    "name": "ipython",
    "version": 3
   },
   "file_extension": ".py",
   "mimetype": "text/x-python",
   "name": "python",
   "nbconvert_exporter": "python",
   "pygments_lexer": "ipython3",
   "version": "3.6.5"
  }
 },
 "nbformat": 4,
 "nbformat_minor": 2
}
