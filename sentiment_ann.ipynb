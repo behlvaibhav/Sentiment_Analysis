{
 "cells": [
  {
   "cell_type": "code",
   "execution_count": 30,
   "metadata": {},
   "outputs": [],
   "source": [
    "import numpy as np\n",
    "import pandas as pd\n",
    "import matplotlib.pyplot as plt\n",
    "import tensorflow\n",
    "import keras\n",
    "%matplotlib inline"
   ]
  },
  {
   "cell_type": "code",
   "execution_count": 31,
   "metadata": {},
   "outputs": [],
   "source": [
    "df = pd.read_csv('train_E6oV3lV.csv')"
   ]
  },
  {
   "cell_type": "code",
   "execution_count": 32,
   "metadata": {},
   "outputs": [
    {
     "data": {
      "text/html": [
       "<div>\n",
       "<style scoped>\n",
       "    .dataframe tbody tr th:only-of-type {\n",
       "        vertical-align: middle;\n",
       "    }\n",
       "\n",
       "    .dataframe tbody tr th {\n",
       "        vertical-align: top;\n",
       "    }\n",
       "\n",
       "    .dataframe thead th {\n",
       "        text-align: right;\n",
       "    }\n",
       "</style>\n",
       "<table border=\"1\" class=\"dataframe\">\n",
       "  <thead>\n",
       "    <tr style=\"text-align: right;\">\n",
       "      <th></th>\n",
       "      <th>id</th>\n",
       "      <th>label</th>\n",
       "      <th>tweet</th>\n",
       "    </tr>\n",
       "  </thead>\n",
       "  <tbody>\n",
       "    <tr>\n",
       "      <th>0</th>\n",
       "      <td>1</td>\n",
       "      <td>0</td>\n",
       "      <td>@user when a father is dysfunctional and is s...</td>\n",
       "    </tr>\n",
       "    <tr>\n",
       "      <th>1</th>\n",
       "      <td>2</td>\n",
       "      <td>0</td>\n",
       "      <td>@user @user thanks for #lyft credit i can't us...</td>\n",
       "    </tr>\n",
       "    <tr>\n",
       "      <th>2</th>\n",
       "      <td>3</td>\n",
       "      <td>0</td>\n",
       "      <td>bihday your majesty</td>\n",
       "    </tr>\n",
       "    <tr>\n",
       "      <th>3</th>\n",
       "      <td>4</td>\n",
       "      <td>0</td>\n",
       "      <td>#model   i love u take with u all the time in ...</td>\n",
       "    </tr>\n",
       "    <tr>\n",
       "      <th>4</th>\n",
       "      <td>5</td>\n",
       "      <td>0</td>\n",
       "      <td>factsguide: society now    #motivation</td>\n",
       "    </tr>\n",
       "  </tbody>\n",
       "</table>\n",
       "</div>"
      ],
      "text/plain": [
       "   id  label                                              tweet\n",
       "0   1      0   @user when a father is dysfunctional and is s...\n",
       "1   2      0  @user @user thanks for #lyft credit i can't us...\n",
       "2   3      0                                bihday your majesty\n",
       "3   4      0  #model   i love u take with u all the time in ...\n",
       "4   5      0             factsguide: society now    #motivation"
      ]
     },
     "execution_count": 32,
     "metadata": {},
     "output_type": "execute_result"
    }
   ],
   "source": [
    "df.head()"
   ]
  },
  {
   "cell_type": "code",
   "execution_count": 33,
   "metadata": {},
   "outputs": [
    {
     "data": {
      "text/plain": [
       "0     @user when a father is dysfunctional and is s...\n",
       "1    @user @user thanks for #lyft credit i can't us...\n",
       "2                                  bihday your majesty\n",
       "3    #model   i love u take with u all the time in ...\n",
       "4               factsguide: society now    #motivation\n",
       "Name: tweet, dtype: object"
      ]
     },
     "execution_count": 33,
     "metadata": {},
     "output_type": "execute_result"
    }
   ],
   "source": [
    "X = df['tweet']\n",
    "X.head()"
   ]
  },
  {
   "cell_type": "code",
   "execution_count": 34,
   "metadata": {},
   "outputs": [],
   "source": [
    "Y = df['label']\n",
    "Y.head()\n",
    "Y_org = Y"
   ]
  },
  {
   "cell_type": "code",
   "execution_count": 35,
   "metadata": {},
   "outputs": [],
   "source": [
    "from keras.preprocessing.text import Tokenizer\n",
    "max_features = 10000\n",
    "tokenizer = Tokenizer(num_words=max_features, filters='!\"#$%&()*+,-./:;<=>?@[\\]^_`{|}~', split=' ', lower=True, char_level=False, oov_token=None)\n",
    "tokenizer.fit_on_texts(X.values)\n",
    "X = tokenizer.texts_to_sequences(X.values)\n",
    "\n",
    "# add padding\n",
    "from keras.preprocessing.sequence import pad_sequences\n",
    "X = pad_sequences(X, maxlen=400)"
   ]
  },
  {
   "cell_type": "code",
   "execution_count": 36,
   "metadata": {},
   "outputs": [
    {
     "data": {
      "text/plain": [
       "array([[   0,    0,    0, ...,   95, 8136,  480],\n",
       "       [   0,    0,    0, ..., 8137,    8, 8138],\n",
       "       [   0,    0,    0, ...,   62,   26, 3422],\n",
       "       ...,\n",
       "       [   0,    0,    0, ...,   78,   11,  121],\n",
       "       [   0,    0,    0, ..., 1650, 1651,  679],\n",
       "       [   0,    0,    0, ...,    9,    6,  181]])"
      ]
     },
     "execution_count": 36,
     "metadata": {},
     "output_type": "execute_result"
    }
   ],
   "source": [
    "X"
   ]
  },
  {
   "cell_type": "code",
   "execution_count": 37,
   "metadata": {},
   "outputs": [
    {
     "data": {
      "text/plain": [
       "' @user lmfao pathetic #soit   #growup #funny #noonethere #iknowwhoitis ð\\x9f\\x98\\x82ð\\x9f\\x98\\x82ð\\x9f\\x98\\x82ð\\x9f\\x98\\x82ð\\x9f\\x98\\x82ð\\x9f\\x98\\x82ð\\x9f\\x98\\x82ð\\x9f\\x98\\x82ð\\x9f\\x98\\x82ð\\x9f\\x98\\x82ð\\x9f\\x98\\x82ð\\x9f¤\\x97ð\\x9f¤\\x97ð\\x9f¤\\x97ð\\x9f¤\\x97ð\\x9f¤\\x97ð\\x9f¤\\x97ð\\x9f¤\\x97ð\\x9f¤\\x97ð\\x9f¤\\x97ð\\x9f¤\\x97ð\\x9f¤\\x97ð\\x9f¤\\x97ð\\x9f\\x98±ð\\x9f\\x98±ð\\x9f¤\\x97ð\\x9f¤\\x97ð\\x9f\\x98±ð\\x9f¤\\x97ð\\x9f¤\\x97ð\\x9f¤\\x97ð\\x9f¤\\x97ð\\x9f¤\\x97ð\\x9f¤\\x97ð\\x9f¤\\x97ð\\x9f¤\\x97ð\\x9f¤\\x97ð\\x9f¤\\x97ð\\x9f¤\\x97ð\\x9f¤\\x97ð\\x9f¤\\x97ð\\x9f¤\\x97ð\\x9f¤\\x97ð\\x9f\\x98\\x82ð\\x9f\\x98\\x82ð\\x9f\\x98\\x82ð\\x9f\\x98\\x82ð\\x9f\\x98\\x82ð\\x9f\\x98\\x82ð\\x9f\\x98\\x82â\\x80¦'"
      ]
     },
     "execution_count": 37,
     "metadata": {},
     "output_type": "execute_result"
    }
   ],
   "source": [
    "max(df['tweet'], key=len)"
   ]
  },
  {
   "cell_type": "code",
   "execution_count": 38,
   "metadata": {},
   "outputs": [
    {
     "name": "stderr",
     "output_type": "stream",
     "text": [
      "C:\\Users\\Vaibhav\\Anaconda3\\lib\\site-packages\\sklearn\\utils\\validation.py:475: DataConversionWarning: Data with input dtype int32 was converted to float64 by StandardScaler.\n",
      "  warnings.warn(msg, DataConversionWarning)\n"
     ]
    }
   ],
   "source": [
    "from sklearn.preprocessing import StandardScaler\n",
    "scaler = StandardScaler()\n",
    "X = scaler.fit(X).transform(X)"
   ]
  },
  {
   "cell_type": "code",
   "execution_count": 39,
   "metadata": {},
   "outputs": [],
   "source": [
    "from sklearn.decomposition import PCA\n",
    "pca = PCA(n_components = 35)\n",
    "pca.fit(X)\n",
    "X = pca.transform(X);"
   ]
  },
  {
   "cell_type": "code",
   "execution_count": 40,
   "metadata": {},
   "outputs": [
    {
     "data": {
      "image/png": "[encoded data removed]",
      "text/plain": [
       "<Figure size 432x288 with 1 Axes>"
      ]
     },
     "metadata": {},
     "output_type": "display_data"
    }
   ],
   "source": [
    "plt.plot(np.cumsum(pca.explained_variance_ratio_)*100)\n",
    "plt.xlabel(\"No. of components\")\n",
    "plt.ylabel(\"cummulative explained Variance\");"
   ]
  },
  {
   "cell_type": "code",
   "execution_count": 41,
   "metadata": {},
   "outputs": [],
   "source": [
    "from sklearn.model_selection import train_test_split\n",
    "X_train,X_test,Y_train,Y_test = train_test_split(X,Y,test_size = 0.2, random_state= 42)"
   ]
  },
  {
   "cell_type": "code",
   "execution_count": 42,
   "metadata": {},
   "outputs": [],
   "source": [
    "from keras.models import Sequential\n",
    "from keras.layers import Dense\n",
    "from keras.layers import Dropout"
   ]
  },
  {
   "cell_type": "code",
   "execution_count": 43,
   "metadata": {},
   "outputs": [],
   "source": [
    "classifier = Sequential()\n",
    "classifier.add(Dense(units= 20,kernel_initializer= 'uniform', activation='relu' ,input_dim =X.shape[1]))"
   ]
  },
  {
   "cell_type": "code",
   "execution_count": 44,
   "metadata": {},
   "outputs": [],
   "source": [
    "classifier.add(Dense(units= 20,kernel_initializer= 'uniform', activation='relu'))\n",
    "classifier.add(Dense(units= 20,kernel_initializer= 'uniform', activation='relu'))\n",
    "classifier.add(Dense(2,kernel_initializer='uniform', activation='sigmoid'))"
   ]
  },
  {
   "cell_type": "code",
   "execution_count": 45,
   "metadata": {},
   "outputs": [],
   "source": [
    "classifier.compile(optimizer='adam', loss='binary_crossentropy', metrics= ['accuracy'])"
   ]
  },
  {
   "cell_type": "code",
   "execution_count": 46,
   "metadata": {},
   "outputs": [],
   "source": [
    "from sklearn.preprocessing import OneHotEncoder\n",
    "y_e = OneHotEncoder()\n",
    "Y_train_org = Y_train\n",
    "Y_test_org = Y_test\n",
    "Y_train = np.array(Y_train)\n",
    "Y_test = np.array(Y_test)\n",
    "Y_train = Y_train.reshape(-1, 1)\n",
    "Y_test = Y_test.reshape(-1, 1)\n",
    "y_e.fit(Y_train)\n",
    "Y_train = y_e.transform(Y_train)\n",
    "Y_test = y_e.transform(Y_test)"
   ]
  },
  {
   "cell_type": "code",
   "execution_count": 47,
   "metadata": {},
   "outputs": [
    {
     "data": {
      "text/plain": [
       "<25569x2 sparse matrix of type '<class 'numpy.float64'>'\n",
       "\twith 25569 stored elements in Compressed Sparse Row format>"
      ]
     },
     "execution_count": 47,
     "metadata": {},
     "output_type": "execute_result"
    }
   ],
   "source": [
    "Y_train"
   ]
  },
  {
   "cell_type": "code",
   "execution_count": 48,
   "metadata": {},
   "outputs": [
    {
     "data": {
      "text/plain": [
       "<6393x2 sparse matrix of type '<class 'numpy.float64'>'\n",
       "\twith 6393 stored elements in Compressed Sparse Row format>"
      ]
     },
     "execution_count": 48,
     "metadata": {},
     "output_type": "execute_result"
    }
   ],
   "source": [
    "Y_test"
   ]
  },
  {
   "cell_type": "code",
   "execution_count": 49,
   "metadata": {},
   "outputs": [
    {
     "name": "stdout",
     "output_type": "stream",
     "text": [
      "Train on 25569 samples, validate on 6393 samples\n",
      "Epoch 1/100\n",
      "25569/25569 [==============================] - 2s 82us/step - loss: 0.2811 - acc: 0.9296 - val_loss: 0.2488 - val_acc: 0.9287\n",
      "Epoch 2/100\n",
      "25569/25569 [==============================] - 1s 56us/step - loss: 0.2436 - acc: 0.9301 - val_loss: 0.2473 - val_acc: 0.9287\n",
      "Epoch 3/100\n",
      "25569/25569 [==============================] - 1s 55us/step - loss: 0.2422 - acc: 0.9301 - val_loss: 0.2488 - val_acc: 0.9287\n",
      "Epoch 4/100\n",
      "25569/25569 [==============================] - 1s 57us/step - loss: 0.2417 - acc: 0.9301 - val_loss: 0.2501 - val_acc: 0.9287\n",
      "Epoch 5/100\n",
      "25569/25569 [==============================] - 2s 59us/step - loss: 0.2409 - acc: 0.9301 - val_loss: 0.2477 - val_acc: 0.9287\n",
      "Epoch 6/100\n",
      "25569/25569 [==============================] - 1s 55us/step - loss: 0.2406 - acc: 0.9301 - val_loss: 0.2470 - val_acc: 0.9287\n",
      "Epoch 7/100\n",
      "25569/25569 [==============================] - 1s 59us/step - loss: 0.2401 - acc: 0.9301 - val_loss: 0.2476 - val_acc: 0.9287\n",
      "Epoch 8/100\n",
      "25569/25569 [==============================] - 2s 65us/step - loss: 0.2398 - acc: 0.9301 - val_loss: 0.2465 - val_acc: 0.9287\n",
      "Epoch 9/100\n",
      "25569/25569 [==============================] - 2s 63us/step - loss: 0.2393 - acc: 0.9301 - val_loss: 0.2479 - val_acc: 0.9287\n",
      "Epoch 10/100\n",
      "25569/25569 [==============================] - 1s 55us/step - loss: 0.2388 - acc: 0.9301 - val_loss: 0.2476 - val_acc: 0.9287\n",
      "Epoch 11/100\n",
      "25569/25569 [==============================] - 2s 67us/step - loss: 0.2383 - acc: 0.9301 - val_loss: 0.2480 - val_acc: 0.9287\n",
      "Epoch 12/100\n",
      "25569/25569 [==============================] - 2s 67us/step - loss: 0.2376 - acc: 0.9301 - val_loss: 0.2470 - val_acc: 0.9287\n",
      "Epoch 13/100\n",
      "25569/25569 [==============================] - 1s 57us/step - loss: 0.2370 - acc: 0.9301 - val_loss: 0.2471 - val_acc: 0.9287\n",
      "Epoch 14/100\n",
      "25569/25569 [==============================] - 1s 57us/step - loss: 0.2368 - acc: 0.9301 - val_loss: 0.2466 - val_acc: 0.9287\n",
      "Epoch 15/100\n",
      "25569/25569 [==============================] - 1s 57us/step - loss: 0.2354 - acc: 0.9301 - val_loss: 0.2468 - val_acc: 0.9287\n",
      "Epoch 16/100\n",
      "25569/25569 [==============================] - 1s 55us/step - loss: 0.2350 - acc: 0.9301 - val_loss: 0.2474 - val_acc: 0.9287\n",
      "Epoch 17/100\n",
      "25569/25569 [==============================] - 1s 53us/step - loss: 0.2345 - acc: 0.9301 - val_loss: 0.2476 - val_acc: 0.9287\n",
      "Epoch 18/100\n",
      "25569/25569 [==============================] - 1s 57us/step - loss: 0.2337 - acc: 0.9301 - val_loss: 0.2470 - val_acc: 0.9287\n",
      "Epoch 19/100\n",
      "25569/25569 [==============================] - 2s 61us/step - loss: 0.2331 - acc: 0.9301 - val_loss: 0.2467 - val_acc: 0.9287\n",
      "Epoch 20/100\n",
      "25569/25569 [==============================] - 2s 62us/step - loss: 0.2327 - acc: 0.9301 - val_loss: 0.2529 - val_acc: 0.9287\n",
      "Epoch 21/100\n",
      "25569/25569 [==============================] - 2s 77us/step - loss: 0.2325 - acc: 0.9301 - val_loss: 0.2466 - val_acc: 0.9287\n",
      "Epoch 22/100\n",
      "25569/25569 [==============================] - 2s 70us/step - loss: 0.2317 - acc: 0.9301 - val_loss: 0.2475 - val_acc: 0.9287\n",
      "Epoch 23/100\n",
      "25569/25569 [==============================] - 2s 70us/step - loss: 0.2311 - acc: 0.9301 - val_loss: 0.2481 - val_acc: 0.9287\n",
      "Epoch 24/100\n",
      "25569/25569 [==============================] - 1s 58us/step - loss: 0.2313 - acc: 0.9301 - val_loss: 0.2487 - val_acc: 0.9287\n",
      "Epoch 25/100\n",
      "25569/25569 [==============================] - 1s 57us/step - loss: 0.2306 - acc: 0.9301 - val_loss: 0.2511 - val_acc: 0.9287\n",
      "Epoch 26/100\n",
      "25569/25569 [==============================] - 1s 58us/step - loss: 0.2300 - acc: 0.9301 - val_loss: 0.2473 - val_acc: 0.9287\n",
      "Epoch 27/100\n",
      "25569/25569 [==============================] - 2s 66us/step - loss: 0.2299 - acc: 0.9301 - val_loss: 0.2478 - val_acc: 0.9287\n",
      "Epoch 28/100\n",
      "25569/25569 [==============================] - 2s 69us/step - loss: 0.2297 - acc: 0.9301 - val_loss: 0.2466 - val_acc: 0.9287\n",
      "Epoch 29/100\n",
      "25569/25569 [==============================] - 2s 61us/step - loss: 0.2291 - acc: 0.9301 - val_loss: 0.2547 - val_acc: 0.9287\n",
      "Epoch 30/100\n",
      "25569/25569 [==============================] - 1s 55us/step - loss: 0.2290 - acc: 0.9301 - val_loss: 0.2477 - val_acc: 0.9287\n",
      "Epoch 31/100\n",
      "25569/25569 [==============================] - 1s 55us/step - loss: 0.2283 - acc: 0.9301 - val_loss: 0.2493 - val_acc: 0.9287\n",
      "Epoch 32/100\n",
      "25569/25569 [==============================] - 1s 55us/step - loss: 0.2280 - acc: 0.9301 - val_loss: 0.2498 - val_acc: 0.9287\n",
      "Epoch 33/100\n",
      "25569/25569 [==============================] - 1s 56us/step - loss: 0.2278 - acc: 0.9321 - val_loss: 0.2494 - val_acc: 0.9276\n",
      "Epoch 34/100\n",
      "25569/25569 [==============================] - 1s 55us/step - loss: 0.2271 - acc: 0.9330 - val_loss: 0.2478 - val_acc: 0.9265\n",
      "Epoch 35/100\n",
      "25569/25569 [==============================] - 1s 55us/step - loss: 0.2270 - acc: 0.9333 - val_loss: 0.2513 - val_acc: 0.9255\n",
      "Epoch 36/100\n",
      "25569/25569 [==============================] - 2s 62us/step - loss: 0.2267 - acc: 0.9333 - val_loss: 0.2481 - val_acc: 0.9260\n",
      "Epoch 37/100\n",
      "25569/25569 [==============================] - 1s 58us/step - loss: 0.2264 - acc: 0.9331 - val_loss: 0.2508 - val_acc: 0.9270\n",
      "Epoch 38/100\n",
      "25569/25569 [==============================] - 2s 67us/step - loss: 0.2263 - acc: 0.9333 - val_loss: 0.2480 - val_acc: 0.9270\n",
      "Epoch 39/100\n",
      "25569/25569 [==============================] - 1s 57us/step - loss: 0.2253 - acc: 0.9334 - val_loss: 0.2485 - val_acc: 0.9271\n",
      "Epoch 40/100\n",
      "25569/25569 [==============================] - 2s 95us/step - loss: 0.2247 - acc: 0.9341 - val_loss: 0.2478 - val_acc: 0.9273\n",
      "Epoch 41/100\n",
      "25569/25569 [==============================] - 2s 69us/step - loss: 0.2247 - acc: 0.9337 - val_loss: 0.2499 - val_acc: 0.9248\n",
      "Epoch 42/100\n",
      "25569/25569 [==============================] - 1s 58us/step - loss: 0.2239 - acc: 0.9338 - val_loss: 0.2518 - val_acc: 0.9269\n",
      "Epoch 43/100\n",
      "25569/25569 [==============================] - 2s 68us/step - loss: 0.2240 - acc: 0.9337 - val_loss: 0.2496 - val_acc: 0.9268\n",
      "Epoch 44/100\n",
      "25569/25569 [==============================] - 2s 61us/step - loss: 0.2239 - acc: 0.9342 - val_loss: 0.2489 - val_acc: 0.9259\n",
      "Epoch 45/100\n",
      "25569/25569 [==============================] - 2s 85us/step - loss: 0.2234 - acc: 0.9337 - val_loss: 0.2521 - val_acc: 0.9270\n",
      "Epoch 46/100\n",
      "25569/25569 [==============================] - 2s 79us/step - loss: 0.2235 - acc: 0.9345 - val_loss: 0.2487 - val_acc: 0.9266\n",
      "Epoch 47/100\n",
      "25569/25569 [==============================] - 1s 56us/step - loss: 0.2230 - acc: 0.9343 - val_loss: 0.2496 - val_acc: 0.9240\n",
      "Epoch 48/100\n",
      "25569/25569 [==============================] - 1s 53us/step - loss: 0.2230 - acc: 0.9337 - val_loss: 0.2522 - val_acc: 0.9252\n",
      "Epoch 49/100\n",
      "25569/25569 [==============================] - 1s 55us/step - loss: 0.2221 - acc: 0.9341 - val_loss: 0.2474 - val_acc: 0.9254\n",
      "Epoch 50/100\n",
      "25569/25569 [==============================] - 2s 69us/step - loss: 0.2228 - acc: 0.9344 - val_loss: 0.2492 - val_acc: 0.9251\n",
      "Epoch 51/100\n",
      "25569/25569 [==============================] - 1s 57us/step - loss: 0.2216 - acc: 0.9342 - val_loss: 0.2478 - val_acc: 0.9255\n",
      "Epoch 52/100\n",
      "25569/25569 [==============================] - 2s 68us/step - loss: 0.2213 - acc: 0.9344 - val_loss: 0.2514 - val_acc: 0.9246\n",
      "Epoch 53/100\n",
      "25569/25569 [==============================] - 2s 62us/step - loss: 0.2214 - acc: 0.9337 - val_loss: 0.2494 - val_acc: 0.9255\n",
      "Epoch 54/100\n",
      "25569/25569 [==============================] - 2s 62us/step - loss: 0.2207 - acc: 0.9345 - val_loss: 0.2486 - val_acc: 0.9243\n",
      "Epoch 55/100\n",
      "25569/25569 [==============================] - 3s 103us/step - loss: 0.2210 - acc: 0.9352 - val_loss: 0.2473 - val_acc: 0.9263\n",
      "Epoch 56/100\n",
      "25569/25569 [==============================] - 3s 98us/step - loss: 0.2213 - acc: 0.9341 - val_loss: 0.2498 - val_acc: 0.9247\n",
      "Epoch 57/100\n",
      "25569/25569 [==============================] - 2s 95us/step - loss: 0.2210 - acc: 0.9344 - val_loss: 0.2491 - val_acc: 0.9246\n",
      "Epoch 58/100\n",
      "25569/25569 [==============================] - 2s 94us/step - loss: 0.2206 - acc: 0.9343 - val_loss: 0.2513 - val_acc: 0.9255\n",
      "Epoch 59/100\n"
     ]
    },
    {
     "name": "stdout",
     "output_type": "stream",
     "text": [
      "25569/25569 [==============================] - 2s 88us/step - loss: 0.2206 - acc: 0.9344 - val_loss: 0.2489 - val_acc: 0.9226\n",
      "Epoch 60/100\n",
      "25569/25569 [==============================] - 2s 93us/step - loss: 0.2199 - acc: 0.9351 - val_loss: 0.2488 - val_acc: 0.9254\n",
      "Epoch 61/100\n",
      "25569/25569 [==============================] - 2s 96us/step - loss: 0.2195 - acc: 0.9349 - val_loss: 0.2505 - val_acc: 0.9246\n",
      "Epoch 62/100\n",
      "25569/25569 [==============================] - 2s 97us/step - loss: 0.2196 - acc: 0.9352 - val_loss: 0.2490 - val_acc: 0.9257\n",
      "Epoch 63/100\n",
      "25569/25569 [==============================] - 3s 99us/step - loss: 0.2194 - acc: 0.9354 - val_loss: 0.2486 - val_acc: 0.9253\n",
      "Epoch 64/100\n",
      "25569/25569 [==============================] - 2s 85us/step - loss: 0.2190 - acc: 0.9351 - val_loss: 0.2526 - val_acc: 0.9252\n",
      "Epoch 65/100\n",
      "25569/25569 [==============================] - 2s 84us/step - loss: 0.2191 - acc: 0.9349 - val_loss: 0.2486 - val_acc: 0.9255\n",
      "Epoch 66/100\n",
      "25569/25569 [==============================] - 2s 81us/step - loss: 0.2188 - acc: 0.9349 - val_loss: 0.2513 - val_acc: 0.9252\n",
      "Epoch 67/100\n",
      "25569/25569 [==============================] - 2s 82us/step - loss: 0.2177 - acc: 0.9355 - val_loss: 0.2503 - val_acc: 0.9244\n",
      "Epoch 68/100\n",
      "25569/25569 [==============================] - 2s 84us/step - loss: 0.2186 - acc: 0.9349 - val_loss: 0.2501 - val_acc: 0.9241\n",
      "Epoch 69/100\n",
      "25569/25569 [==============================] - 2s 83us/step - loss: 0.2182 - acc: 0.9355 - val_loss: 0.2493 - val_acc: 0.9244\n",
      "Epoch 70/100\n",
      "25569/25569 [==============================] - 1s 53us/step - loss: 0.2174 - acc: 0.9355 - val_loss: 0.2530 - val_acc: 0.9236\n",
      "Epoch 71/100\n",
      "25569/25569 [==============================] - 1s 45us/step - loss: 0.2170 - acc: 0.9356 - val_loss: 0.2498 - val_acc: 0.9253\n",
      "Epoch 72/100\n",
      "25569/25569 [==============================] - 1s 46us/step - loss: 0.2165 - acc: 0.9357 - val_loss: 0.2525 - val_acc: 0.9219\n",
      "Epoch 73/100\n",
      "25569/25569 [==============================] - 1s 47us/step - loss: 0.2177 - acc: 0.9354 - val_loss: 0.2494 - val_acc: 0.9242\n",
      "Epoch 74/100\n",
      "25569/25569 [==============================] - 1s 47us/step - loss: 0.2173 - acc: 0.9353 - val_loss: 0.2510 - val_acc: 0.9221\n",
      "Epoch 75/100\n",
      "25569/25569 [==============================] - 1s 50us/step - loss: 0.2159 - acc: 0.9355 - val_loss: 0.2506 - val_acc: 0.9230\n",
      "Epoch 76/100\n",
      "25569/25569 [==============================] - 2s 74us/step - loss: 0.2156 - acc: 0.9356 - val_loss: 0.2511 - val_acc: 0.9224\n",
      "Epoch 77/100\n",
      "25569/25569 [==============================] - 1s 49us/step - loss: 0.2153 - acc: 0.9357 - val_loss: 0.2540 - val_acc: 0.9235\n",
      "Epoch 78/100\n",
      "25569/25569 [==============================] - 1s 49us/step - loss: 0.2151 - acc: 0.9361 - val_loss: 0.2548 - val_acc: 0.9199\n",
      "Epoch 79/100\n",
      "25569/25569 [==============================] - 1s 48us/step - loss: 0.2150 - acc: 0.9360 - val_loss: 0.2533 - val_acc: 0.9223\n",
      "Epoch 80/100\n",
      "25569/25569 [==============================] - 1s 48us/step - loss: 0.2143 - acc: 0.9362 - val_loss: 0.2529 - val_acc: 0.9237\n",
      "Epoch 81/100\n",
      "25569/25569 [==============================] - 1s 47us/step - loss: 0.2141 - acc: 0.9364 - val_loss: 0.2522 - val_acc: 0.9229\n",
      "Epoch 82/100\n",
      "25569/25569 [==============================] - 1s 46us/step - loss: 0.2139 - acc: 0.9365 - val_loss: 0.2522 - val_acc: 0.9268\n",
      "Epoch 83/100\n",
      "25569/25569 [==============================] - 1s 47us/step - loss: 0.2135 - acc: 0.9363 - val_loss: 0.2561 - val_acc: 0.9218\n",
      "Epoch 84/100\n",
      "25569/25569 [==============================] - 1s 47us/step - loss: 0.2136 - acc: 0.9364 - val_loss: 0.2530 - val_acc: 0.9224\n",
      "Epoch 85/100\n",
      "25569/25569 [==============================] - 1s 46us/step - loss: 0.2137 - acc: 0.9359 - val_loss: 0.2555 - val_acc: 0.9235\n",
      "Epoch 86/100\n",
      "25569/25569 [==============================] - 1s 46us/step - loss: 0.2127 - acc: 0.9364 - val_loss: 0.2533 - val_acc: 0.9239\n",
      "Epoch 87/100\n",
      "25569/25569 [==============================] - 1s 47us/step - loss: 0.2129 - acc: 0.9361 - val_loss: 0.2552 - val_acc: 0.9187\n",
      "Epoch 88/100\n",
      "25569/25569 [==============================] - 1s 46us/step - loss: 0.2119 - acc: 0.9374 - val_loss: 0.2569 - val_acc: 0.9210\n",
      "Epoch 89/100\n",
      "25569/25569 [==============================] - 1s 45us/step - loss: 0.2125 - acc: 0.9361 - val_loss: 0.2543 - val_acc: 0.9233\n",
      "Epoch 90/100\n",
      "25569/25569 [==============================] - 1s 46us/step - loss: 0.2116 - acc: 0.9369 - val_loss: 0.2565 - val_acc: 0.9230\n",
      "Epoch 91/100\n",
      "25569/25569 [==============================] - 1s 46us/step - loss: 0.2119 - acc: 0.9367 - val_loss: 0.2568 - val_acc: 0.9219\n",
      "Epoch 92/100\n",
      "25569/25569 [==============================] - 1s 46us/step - loss: 0.2114 - acc: 0.9370 - val_loss: 0.2544 - val_acc: 0.9234\n",
      "Epoch 93/100\n",
      "25569/25569 [==============================] - 1s 45us/step - loss: 0.2111 - acc: 0.9368 - val_loss: 0.2574 - val_acc: 0.9222\n",
      "Epoch 94/100\n",
      "25569/25569 [==============================] - 1s 46us/step - loss: 0.2101 - acc: 0.9374 - val_loss: 0.2563 - val_acc: 0.9246\n",
      "Epoch 95/100\n",
      "25569/25569 [==============================] - 1s 45us/step - loss: 0.2107 - acc: 0.9373 - val_loss: 0.2568 - val_acc: 0.9258\n",
      "Epoch 96/100\n",
      "25569/25569 [==============================] - 1s 45us/step - loss: 0.2100 - acc: 0.9373 - val_loss: 0.2569 - val_acc: 0.9200\n",
      "Epoch 97/100\n",
      "25569/25569 [==============================] - 1s 45us/step - loss: 0.2102 - acc: 0.9369 - val_loss: 0.2559 - val_acc: 0.9232\n",
      "Epoch 98/100\n",
      "25569/25569 [==============================] - 1s 45us/step - loss: 0.2093 - acc: 0.9381 - val_loss: 0.2562 - val_acc: 0.9240\n",
      "Epoch 99/100\n",
      "25569/25569 [==============================] - 1s 45us/step - loss: 0.2098 - acc: 0.9375 - val_loss: 0.2557 - val_acc: 0.9241\n",
      "Epoch 100/100\n",
      "25569/25569 [==============================] - 1s 45us/step - loss: 0.2093 - acc: 0.9374 - val_loss: 0.2538 - val_acc: 0.9237\n"
     ]
    }
   ],
   "source": [
    "checker = classifier.fit(X_train, Y_train, batch_size=32, epochs=100, validation_data = (X_test, Y_test))"
   ]
  },
  {
   "cell_type": "code",
   "execution_count": 50,
   "metadata": {},
   "outputs": [],
   "source": [
    "Y_pred_test_label = classifier.predict(X_test)\n",
    "y_pred_test=np.argmax(Y_pred_test_label,axis =1)\n",
    "y_pred_test\n",
    "Y_pred_train_label = classifier.predict(X_train)\n",
    "y_pred_train = np.argmax(Y_pred_train_label,axis=1)\n",
    "Y_test_true = Y_test_org.astype(np.int)\n",
    "Y_train_true = Y_train_org.astype(np.int)"
   ]
  },
  {
   "cell_type": "code",
   "execution_count": 51,
   "metadata": {},
   "outputs": [
    {
     "name": "stdout",
     "output_type": "stream",
     "text": [
      "             precision    recall  f1-score   support\n",
      "\n",
      "          0       0.93      0.99      0.96      5937\n",
      "          1       0.37      0.10      0.16       456\n",
      "\n",
      "avg / total       0.89      0.92      0.90      6393\n",
      "\n"
     ]
    }
   ],
   "source": [
    "from sklearn.metrics import classification_report\n",
    "print(classification_report(Y_test_true,y_pred_test))"
   ]
  },
  {
   "cell_type": "code",
   "execution_count": 52,
   "metadata": {},
   "outputs": [
    {
     "name": "stdout",
     "output_type": "stream",
     "text": [
      "             precision    recall  f1-score   support\n",
      "\n",
      "          0       0.94      0.99      0.97     23783\n",
      "          1       0.76      0.21      0.33      1786\n",
      "\n",
      "avg / total       0.93      0.94      0.92     25569\n",
      "\n"
     ]
    }
   ],
   "source": [
    "print(classification_report(Y_train_true,y_pred_train))"
   ]
  },
  {
   "cell_type": "code",
   "execution_count": 53,
   "metadata": {},
   "outputs": [],
   "source": [
    "from sklearn.metrics import confusion_matrix"
   ]
  },
  {
   "cell_type": "code",
   "execution_count": 54,
   "metadata": {},
   "outputs": [
    {
     "name": "stdout",
     "output_type": "stream",
     "text": [
      "TRAIN:  \n",
      " [[23663  1414]\n",
      " [  120   372]]\n",
      "\n",
      "Test:  \n",
      " [[5860  411]\n",
      " [  77   45]]\n"
     ]
    }
   ],
   "source": [
    "print(\"TRAIN:  \\n\",confusion_matrix(y_pred_train,Y_train_true))\n",
    "print(\"\\nTest:  \\n\",confusion_matrix(y_pred_test,Y_test_true))"
   ]
  },
  {
   "cell_type": "code",
   "execution_count": null,
   "metadata": {},
   "outputs": [],
   "source": []
  },
  {
   "cell_type": "code",
   "execution_count": null,
   "metadata": {},
   "outputs": [],
   "source": []
  },
  {
   "cell_type": "code",
   "execution_count": null,
   "metadata": {},
   "outputs": [],
   "source": []
  }
 ],
 "metadata": {
  "kernelspec": {
   "display_name": "Python 3",
   "language": "python",
   "name": "python3"
  },
  "language_info": {
   "codemirror_mode": {
    "name": "ipython",
    "version": 3
   },
   "file_extension": ".py",
   "mimetype": "text/x-python",
   "name": "python",
   "nbconvert_exporter": "python",
   "pygments_lexer": "ipython3",
   "version": "3.6.5"
  }
 },
 "nbformat": 4,
 "nbformat_minor": 2
}
