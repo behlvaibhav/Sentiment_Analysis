{
 "cells": [
  {
   "cell_type": "code",
   "execution_count": 1,
   "metadata": {},
   "outputs": [
    {
     "name": "stderr",
     "output_type": "stream",
     "text": [
      "C:\\Users\\Vaibhav\\Anaconda3\\lib\\site-packages\\h5py\\__init__.py:36: FutureWarning: Conversion of the second argument of issubdtype from `float` to `np.floating` is deprecated. In future, it will be treated as `np.float64 == np.dtype(float).type`.\n",
      "  from ._conv import register_converters as _register_converters\n",
      "Using TensorFlow backend.\n"
     ]
    }
   ],
   "source": [
    "import numpy as np\n",
    "import pandas as pd\n",
    "import matplotlib.pyplot as plt\n",
    "import tensorflow\n",
    "import keras\n",
    "%matplotlib inline"
   ]
  },
  {
   "cell_type": "code",
   "execution_count": 2,
   "metadata": {},
   "outputs": [],
   "source": [
    "df = pd.read_csv('train_E6oV3lV.csv')"
   ]
  },
  {
   "cell_type": "code",
   "execution_count": 3,
   "metadata": {},
   "outputs": [
    {
     "data": {
      "text/html": [
       "<div>\n",
       "<style scoped>\n",
       "    .dataframe tbody tr th:only-of-type {\n",
       "        vertical-align: middle;\n",
       "    }\n",
       "\n",
       "    .dataframe tbody tr th {\n",
       "        vertical-align: top;\n",
       "    }\n",
       "\n",
       "    .dataframe thead th {\n",
       "        text-align: right;\n",
       "    }\n",
       "</style>\n",
       "<table border=\"1\" class=\"dataframe\">\n",
       "  <thead>\n",
       "    <tr style=\"text-align: right;\">\n",
       "      <th></th>\n",
       "      <th>id</th>\n",
       "      <th>label</th>\n",
       "      <th>tweet</th>\n",
       "    </tr>\n",
       "  </thead>\n",
       "  <tbody>\n",
       "    <tr>\n",
       "      <th>0</th>\n",
       "      <td>1</td>\n",
       "      <td>0</td>\n",
       "      <td>@user when a father is dysfunctional and is s...</td>\n",
       "    </tr>\n",
       "    <tr>\n",
       "      <th>1</th>\n",
       "      <td>2</td>\n",
       "      <td>0</td>\n",
       "      <td>@user @user thanks for #lyft credit i can't us...</td>\n",
       "    </tr>\n",
       "    <tr>\n",
       "      <th>2</th>\n",
       "      <td>3</td>\n",
       "      <td>0</td>\n",
       "      <td>bihday your majesty</td>\n",
       "    </tr>\n",
       "    <tr>\n",
       "      <th>3</th>\n",
       "      <td>4</td>\n",
       "      <td>0</td>\n",
       "      <td>#model   i love u take with u all the time in ...</td>\n",
       "    </tr>\n",
       "    <tr>\n",
       "      <th>4</th>\n",
       "      <td>5</td>\n",
       "      <td>0</td>\n",
       "      <td>factsguide: society now    #motivation</td>\n",
       "    </tr>\n",
       "  </tbody>\n",
       "</table>\n",
       "</div>"
      ],
      "text/plain": [
       "   id  label                                              tweet\n",
       "0   1      0   @user when a father is dysfunctional and is s...\n",
       "1   2      0  @user @user thanks for #lyft credit i can't us...\n",
       "2   3      0                                bihday your majesty\n",
       "3   4      0  #model   i love u take with u all the time in ...\n",
       "4   5      0             factsguide: society now    #motivation"
      ]
     },
     "execution_count": 3,
     "metadata": {},
     "output_type": "execute_result"
    }
   ],
   "source": [
    "df.head()"
   ]
  },
  {
   "cell_type": "code",
   "execution_count": 4,
   "metadata": {},
   "outputs": [
    {
     "data": {
      "text/html": [
       "<div>\n",
       "<style scoped>\n",
       "    .dataframe tbody tr th:only-of-type {\n",
       "        vertical-align: middle;\n",
       "    }\n",
       "\n",
       "    .dataframe tbody tr th {\n",
       "        vertical-align: top;\n",
       "    }\n",
       "\n",
       "    .dataframe thead th {\n",
       "        text-align: right;\n",
       "    }\n",
       "</style>\n",
       "<table border=\"1\" class=\"dataframe\">\n",
       "  <thead>\n",
       "    <tr style=\"text-align: right;\">\n",
       "      <th></th>\n",
       "      <th>id</th>\n",
       "      <th>tweet</th>\n",
       "    </tr>\n",
       "    <tr>\n",
       "      <th>label</th>\n",
       "      <th></th>\n",
       "      <th></th>\n",
       "    </tr>\n",
       "  </thead>\n",
       "  <tbody>\n",
       "    <tr>\n",
       "      <th>0</th>\n",
       "      <td>29720</td>\n",
       "      <td>29720</td>\n",
       "    </tr>\n",
       "    <tr>\n",
       "      <th>1</th>\n",
       "      <td>2242</td>\n",
       "      <td>2242</td>\n",
       "    </tr>\n",
       "  </tbody>\n",
       "</table>\n",
       "</div>"
      ],
      "text/plain": [
       "          id  tweet\n",
       "label              \n",
       "0      29720  29720\n",
       "1       2242   2242"
      ]
     },
     "execution_count": 4,
     "metadata": {},
     "output_type": "execute_result"
    }
   ],
   "source": [
    "df.groupby('label').count()"
   ]
  },
  {
   "cell_type": "code",
   "execution_count": 5,
   "metadata": {},
   "outputs": [],
   "source": [
    "count_class_0, count_class_1 = df['label'].value_counts()"
   ]
  },
  {
   "cell_type": "code",
   "execution_count": 6,
   "metadata": {},
   "outputs": [],
   "source": [
    "df_class_0 =  df.query('label==0')\n",
    "df_class_1 =  df.query('label==1')"
   ]
  },
  {
   "cell_type": "code",
   "execution_count": 7,
   "metadata": {},
   "outputs": [],
   "source": [
    "df_class_0_under = df_class_0.sample(count_class_1)\n",
    "df_under = pd.concat([df_class_0_under, df_class_1],ignore_index=True ,axis=0)"
   ]
  },
  {
   "cell_type": "code",
   "execution_count": 8,
   "metadata": {},
   "outputs": [
    {
     "data": {
      "text/plain": [
       "(4484, 3)"
      ]
     },
     "execution_count": 8,
     "metadata": {},
     "output_type": "execute_result"
    }
   ],
   "source": [
    "df_under.shape"
   ]
  },
  {
   "cell_type": "code",
   "execution_count": 9,
   "metadata": {},
   "outputs": [
    {
     "data": {
      "text/html": [
       "<div>\n",
       "<style scoped>\n",
       "    .dataframe tbody tr th:only-of-type {\n",
       "        vertical-align: middle;\n",
       "    }\n",
       "\n",
       "    .dataframe tbody tr th {\n",
       "        vertical-align: top;\n",
       "    }\n",
       "\n",
       "    .dataframe thead th {\n",
       "        text-align: right;\n",
       "    }\n",
       "</style>\n",
       "<table border=\"1\" class=\"dataframe\">\n",
       "  <thead>\n",
       "    <tr style=\"text-align: right;\">\n",
       "      <th></th>\n",
       "      <th>id</th>\n",
       "      <th>tweet</th>\n",
       "    </tr>\n",
       "    <tr>\n",
       "      <th>label</th>\n",
       "      <th></th>\n",
       "      <th></th>\n",
       "    </tr>\n",
       "  </thead>\n",
       "  <tbody>\n",
       "    <tr>\n",
       "      <th>0</th>\n",
       "      <td>2242</td>\n",
       "      <td>2242</td>\n",
       "    </tr>\n",
       "    <tr>\n",
       "      <th>1</th>\n",
       "      <td>2242</td>\n",
       "      <td>2242</td>\n",
       "    </tr>\n",
       "  </tbody>\n",
       "</table>\n",
       "</div>"
      ],
      "text/plain": [
       "         id  tweet\n",
       "label             \n",
       "0      2242   2242\n",
       "1      2242   2242"
      ]
     },
     "execution_count": 9,
     "metadata": {},
     "output_type": "execute_result"
    }
   ],
   "source": [
    "df_under.groupby('label').count()"
   ]
  },
  {
   "cell_type": "code",
   "execution_count": 10,
   "metadata": {},
   "outputs": [],
   "source": [
    "X = df_under['tweet']\n",
    "Y = df_under['label']\n",
    "Y_org = Y"
   ]
  },
  {
   "cell_type": "code",
   "execution_count": 11,
   "metadata": {},
   "outputs": [],
   "source": [
    "from keras.preprocessing.text import Tokenizer\n",
    "max_features = 10000\n",
    "tokenizer = Tokenizer(num_words=max_features, filters='!\"#$%&()*+,-./:;<=>?@[\\]^_`{|}~', split=' ', lower=True, char_level=False, oov_token=None)\n",
    "tokenizer.fit_on_texts(X.values)\n",
    "X = tokenizer.texts_to_sequences(X.values)\n",
    "\n",
    "# add padding\n",
    "from keras.preprocessing.sequence import pad_sequences\n",
    "X = pad_sequences(X, maxlen=400)"
   ]
  },
  {
   "cell_type": "code",
   "execution_count": 12,
   "metadata": {},
   "outputs": [
    {
     "data": {
      "text/plain": [
       "' @user lmfao pathetic #soit   #growup #funny #noonethere #iknowwhoitis ð\\x9f\\x98\\x82ð\\x9f\\x98\\x82ð\\x9f\\x98\\x82ð\\x9f\\x98\\x82ð\\x9f\\x98\\x82ð\\x9f\\x98\\x82ð\\x9f\\x98\\x82ð\\x9f\\x98\\x82ð\\x9f\\x98\\x82ð\\x9f\\x98\\x82ð\\x9f\\x98\\x82ð\\x9f¤\\x97ð\\x9f¤\\x97ð\\x9f¤\\x97ð\\x9f¤\\x97ð\\x9f¤\\x97ð\\x9f¤\\x97ð\\x9f¤\\x97ð\\x9f¤\\x97ð\\x9f¤\\x97ð\\x9f¤\\x97ð\\x9f¤\\x97ð\\x9f¤\\x97ð\\x9f\\x98±ð\\x9f\\x98±ð\\x9f¤\\x97ð\\x9f¤\\x97ð\\x9f\\x98±ð\\x9f¤\\x97ð\\x9f¤\\x97ð\\x9f¤\\x97ð\\x9f¤\\x97ð\\x9f¤\\x97ð\\x9f¤\\x97ð\\x9f¤\\x97ð\\x9f¤\\x97ð\\x9f¤\\x97ð\\x9f¤\\x97ð\\x9f¤\\x97ð\\x9f¤\\x97ð\\x9f¤\\x97ð\\x9f¤\\x97ð\\x9f¤\\x97ð\\x9f\\x98\\x82ð\\x9f\\x98\\x82ð\\x9f\\x98\\x82ð\\x9f\\x98\\x82ð\\x9f\\x98\\x82ð\\x9f\\x98\\x82ð\\x9f\\x98\\x82â\\x80¦'"
      ]
     },
     "execution_count": 12,
     "metadata": {},
     "output_type": "execute_result"
    }
   ],
   "source": [
    "max(df['tweet'], key=len)"
   ]
  },
  {
   "cell_type": "code",
   "execution_count": 13,
   "metadata": {},
   "outputs": [
    {
     "name": "stderr",
     "output_type": "stream",
     "text": [
      "C:\\Users\\Vaibhav\\Anaconda3\\lib\\site-packages\\sklearn\\utils\\validation.py:475: DataConversionWarning: Data with input dtype int32 was converted to float64 by StandardScaler.\n",
      "  warnings.warn(msg, DataConversionWarning)\n"
     ]
    }
   ],
   "source": [
    "from sklearn.preprocessing import StandardScaler\n",
    "scaler = StandardScaler()\n",
    "X = scaler.fit(X).transform(X)"
   ]
  },
  {
   "cell_type": "code",
   "execution_count": 14,
   "metadata": {},
   "outputs": [],
   "source": [
    "from sklearn.decomposition import PCA\n",
    "pca = PCA(n_components = 35)\n",
    "pca.fit(X)\n",
    "X = pca.transform(X);"
   ]
  },
  {
   "cell_type": "code",
   "execution_count": 15,
   "metadata": {},
   "outputs": [
    {
     "data": {
      "image/png": "[encoded data removed]",
      "text/plain": [
       "<Figure size 432x288 with 1 Axes>"
      ]
     },
     "metadata": {},
     "output_type": "display_data"
    }
   ],
   "source": [
    "plt.plot(np.cumsum(pca.explained_variance_ratio_)*100)\n",
    "plt.xlabel(\"No. of components\")\n",
    "plt.ylabel(\"cummulative explained Variance\");"
   ]
  },
  {
   "cell_type": "code",
   "execution_count": 16,
   "metadata": {},
   "outputs": [],
   "source": [
    "from sklearn.model_selection import train_test_split\n",
    "X_train,X_test,Y_train,Y_test = train_test_split(X,Y,test_size = 0.2, random_state= 42)"
   ]
  },
  {
   "cell_type": "code",
   "execution_count": 17,
   "metadata": {},
   "outputs": [],
   "source": [
    "from keras.models import Sequential "
   ]
  },
  {
   "cell_type": "code",
   "execution_count": 18,
   "metadata": {},
   "outputs": [],
   "source": [
    "from keras.layers import Dense\n",
    "from keras.layers import Dropout\n",
    "from keras.layers import LSTM"
   ]
  },
  {
   "cell_type": "code",
   "execution_count": 19,
   "metadata": {},
   "outputs": [],
   "source": [
    "classifier = Sequential()\n",
    "classifier.add(LSTM(units=40, activation='relu',return_sequences= True, input_shape=(None, 35)))\n",
    "classifier.add(Dropout(rate=0.3))"
   ]
  },
  {
   "cell_type": "code",
   "execution_count": 20,
   "metadata": {},
   "outputs": [],
   "source": [
    "classifier.add(LSTM(units=20, return_sequences= True,activation='relu'))\n",
    "classifier.add(Dropout(rate=0.2))\n",
    "classifier.add(LSTM(units=20,activation='relu'))\n",
    "classifier.add(Dropout(rate=0.2))\n",
    "classifier.add(Dense(units = 2, activation='sigmoid'))"
   ]
  },
  {
   "cell_type": "code",
   "execution_count": 21,
   "metadata": {},
   "outputs": [],
   "source": [
    "classifier.compile(optimizer='rmsprop',metrics=['accuracy'],loss='binary_crossentropy')"
   ]
  },
  {
   "cell_type": "code",
   "execution_count": 22,
   "metadata": {},
   "outputs": [],
   "source": [
    "from sklearn.preprocessing import OneHotEncoder\n",
    "y_e = OneHotEncoder()\n",
    "Y_train_org = Y_train\n",
    "Y_test_org = Y_test\n",
    "Y_train =np.array(Y_train)\n",
    "Y_test = np.array(Y_test)\n",
    "Y_train = Y_train.reshape(-1, 1)\n",
    "Y_test = Y_test.reshape(-1, 1)\n",
    "y_e.fit(Y_train)\n",
    "Y_train = y_e.transform(Y_train)\n",
    "Y_test = y_e.transform(Y_test)"
   ]
  },
  {
   "cell_type": "code",
   "execution_count": null,
   "metadata": {},
   "outputs": [
    {
     "name": "stdout",
     "output_type": "stream",
     "text": [
      "Train on 3587 samples, validate on 897 samples\n",
      "Epoch 1/200\n",
      "3587/3587 [==============================] - 5s 2ms/step - loss: 0.6924 - acc: 0.5548 - val_loss: 0.6912 - val_acc: 0.6026\n",
      "Epoch 2/200\n",
      "3587/3587 [==============================] - 1s 234us/step - loss: 0.6846 - acc: 0.6373 - val_loss: 0.6817 - val_acc: 0.6388\n",
      "Epoch 3/200\n",
      "3587/3587 [==============================] - 1s 224us/step - loss: 0.6699 - acc: 0.6583 - val_loss: 0.6820 - val_acc: 0.6661\n",
      "Epoch 4/200\n",
      "3587/3587 [==============================] - 1s 353us/step - loss: 0.6587 - acc: 0.6723 - val_loss: 0.6699 - val_acc: 0.6656\n",
      "Epoch 5/200\n",
      "3587/3587 [==============================] - 1s 286us/step - loss: 0.6442 - acc: 0.6744 - val_loss: 0.6672 - val_acc: 0.6734\n",
      "Epoch 6/200\n",
      "3587/3587 [==============================] - 1s 224us/step - loss: 0.6455 - acc: 0.6702 - val_loss: 0.6592 - val_acc: 0.6700\n",
      "Epoch 7/200\n",
      "3587/3587 [==============================] - 1s 227us/step - loss: 0.6329 - acc: 0.6761 - val_loss: 0.6589 - val_acc: 0.6616\n",
      "Epoch 8/200\n",
      "3587/3587 [==============================] - 1s 228us/step - loss: 0.6310 - acc: 0.6715 - val_loss: 0.6573 - val_acc: 0.6717\n",
      "Epoch 9/200\n",
      "3587/3587 [==============================] - 1s 227us/step - loss: 0.6301 - acc: 0.6815 - val_loss: 0.6494 - val_acc: 0.6689\n",
      "Epoch 10/200\n",
      "3587/3587 [==============================] - 1s 249us/step - loss: 0.6263 - acc: 0.6779 - val_loss: 0.6493 - val_acc: 0.6717\n",
      "Epoch 11/200\n",
      "3587/3587 [==============================] - 1s 234us/step - loss: 0.6227 - acc: 0.6798 - val_loss: 0.6531 - val_acc: 0.6745\n",
      "Epoch 12/200\n",
      "3587/3587 [==============================] - 1s 265us/step - loss: 0.6194 - acc: 0.6819 - val_loss: 0.6499 - val_acc: 0.6689\n",
      "Epoch 13/200\n",
      "3587/3587 [==============================] - 1s 221us/step - loss: 0.6213 - acc: 0.6893 - val_loss: 0.6441 - val_acc: 0.6689\n",
      "Epoch 14/200\n",
      "3587/3587 [==============================] - 1s 226us/step - loss: 0.6189 - acc: 0.6827 - val_loss: 0.6449 - val_acc: 0.6739\n",
      "Epoch 15/200\n",
      "3587/3587 [==============================] - 1s 228us/step - loss: 0.6174 - acc: 0.6847 - val_loss: 0.6478 - val_acc: 0.6722\n",
      "Epoch 16/200\n",
      "3587/3587 [==============================] - 1s 228us/step - loss: 0.6163 - acc: 0.6931 - val_loss: 0.6406 - val_acc: 0.6706\n",
      "Epoch 17/200\n",
      "3587/3587 [==============================] - 1s 234us/step - loss: 0.6158 - acc: 0.6864 - val_loss: 0.6377 - val_acc: 0.6745\n",
      "Epoch 18/200\n",
      "3587/3587 [==============================] - 1s 205us/step - loss: 0.6083 - acc: 0.6929 - val_loss: 0.6388 - val_acc: 0.6750\n",
      "Epoch 19/200\n",
      "3587/3587 [==============================] - 1s 208us/step - loss: 0.6046 - acc: 0.7025 - val_loss: 0.6416 - val_acc: 0.6728\n",
      "Epoch 20/200\n",
      "3587/3587 [==============================] - 1s 226us/step - loss: 0.6024 - acc: 0.6965 - val_loss: 0.6393 - val_acc: 0.6722\n",
      "Epoch 21/200\n",
      "3587/3587 [==============================] - 1s 234us/step - loss: 0.6025 - acc: 0.6961 - val_loss: 0.6415 - val_acc: 0.6722\n",
      "Epoch 22/200\n",
      "3587/3587 [==============================] - 1s 231us/step - loss: 0.6039 - acc: 0.6942 - val_loss: 0.6379 - val_acc: 0.6722\n",
      "Epoch 23/200\n",
      "3587/3587 [==============================] - 1s 233us/step - loss: 0.5966 - acc: 0.7034 - val_loss: 0.6348 - val_acc: 0.6750\n",
      "Epoch 24/200\n",
      "3587/3587 [==============================] - 1s 229us/step - loss: 0.5969 - acc: 0.7043 - val_loss: 0.6322 - val_acc: 0.6817\n",
      "Epoch 25/200\n",
      "3587/3587 [==============================] - 1s 213us/step - loss: 0.5971 - acc: 0.6984 - val_loss: 0.6343 - val_acc: 0.6839\n",
      "Epoch 26/200\n",
      "3587/3587 [==============================] - 1s 231us/step - loss: 0.5920 - acc: 0.7083 - val_loss: 0.6378 - val_acc: 0.6828\n",
      "Epoch 27/200\n",
      "3587/3587 [==============================] - 1s 233us/step - loss: 0.5941 - acc: 0.7109 - val_loss: 0.6297 - val_acc: 0.6901\n",
      "Epoch 28/200\n",
      "3587/3587 [==============================] - 1s 232us/step - loss: 0.5895 - acc: 0.7071 - val_loss: 0.6308 - val_acc: 0.6834\n",
      "Epoch 29/200\n",
      "3587/3587 [==============================] - 1s 219us/step - loss: 0.5919 - acc: 0.7057 - val_loss: 0.6332 - val_acc: 0.6851\n",
      "Epoch 30/200\n",
      "3587/3587 [==============================] - 1s 213us/step - loss: 0.5899 - acc: 0.7069 - val_loss: 0.6286 - val_acc: 0.6784\n",
      "Epoch 31/200\n",
      "3587/3587 [==============================] - 1s 226us/step - loss: 0.5871 - acc: 0.7105 - val_loss: 0.6286 - val_acc: 0.6878\n",
      "Epoch 32/200\n",
      "3587/3587 [==============================] - 1s 247us/step - loss: 0.5859 - acc: 0.7084 - val_loss: 0.6296 - val_acc: 0.6878\n",
      "Epoch 33/200\n",
      "3587/3587 [==============================] - 1s 251us/step - loss: 0.5791 - acc: 0.7149 - val_loss: 0.6299 - val_acc: 0.6918\n",
      "Epoch 34/200\n",
      "3587/3587 [==============================] - 1s 226us/step - loss: 0.5823 - acc: 0.7127 - val_loss: 0.6323 - val_acc: 0.6851\n",
      "Epoch 35/200\n",
      "3587/3587 [==============================] - 1s 217us/step - loss: 0.5836 - acc: 0.7140 - val_loss: 0.6369 - val_acc: 0.6834\n",
      "Epoch 36/200\n",
      "3587/3587 [==============================] - 1s 220us/step - loss: 0.5817 - acc: 0.7109 - val_loss: 0.6360 - val_acc: 0.6851\n",
      "Epoch 37/200\n",
      "3587/3587 [==============================] - 1s 209us/step - loss: 0.5778 - acc: 0.7187 - val_loss: 0.6343 - val_acc: 0.6895\n",
      "Epoch 38/200\n",
      "3587/3587 [==============================] - 1s 193us/step - loss: 0.5779 - acc: 0.7175 - val_loss: 0.6370 - val_acc: 0.6923\n",
      "Epoch 39/200\n",
      "3587/3587 [==============================] - 1s 208us/step - loss: 0.5713 - acc: 0.7243 - val_loss: 0.6369 - val_acc: 0.6845\n",
      "Epoch 40/200\n",
      "3587/3587 [==============================] - 1s 219us/step - loss: 0.5754 - acc: 0.7166 - val_loss: 0.6292 - val_acc: 0.6912\n",
      "Epoch 41/200\n",
      "3587/3587 [==============================] - 1s 216us/step - loss: 0.5718 - acc: 0.7207 - val_loss: 0.6295 - val_acc: 0.6901\n",
      "Epoch 42/200\n",
      "3587/3587 [==============================] - 1s 210us/step - loss: 0.5657 - acc: 0.7294 - val_loss: 0.6343 - val_acc: 0.6873\n",
      "Epoch 43/200\n",
      "3587/3587 [==============================] - 1s 208us/step - loss: 0.5656 - acc: 0.7247 - val_loss: 0.6372 - val_acc: 0.6856\n",
      "Epoch 44/200\n",
      "3587/3587 [==============================] - 1s 198us/step - loss: 0.5717 - acc: 0.7221 - val_loss: 0.6305 - val_acc: 0.6918\n",
      "Epoch 45/200\n",
      "3587/3587 [==============================] - 1s 197us/step - loss: 0.5724 - acc: 0.7221 - val_loss: 0.6293 - val_acc: 0.6890\n",
      "Epoch 46/200\n",
      "3587/3587 [==============================] - 1s 214us/step - loss: 0.5713 - acc: 0.7176 - val_loss: 0.6364 - val_acc: 0.6901\n",
      "Epoch 47/200\n",
      "3587/3587 [==============================] - 1s 200us/step - loss: 0.5655 - acc: 0.7239 - val_loss: 0.6337 - val_acc: 0.6906\n",
      "Epoch 48/200\n",
      "3587/3587 [==============================] - 1s 197us/step - loss: 0.5693 - acc: 0.7250 - val_loss: 0.6293 - val_acc: 0.6867\n",
      "Epoch 49/200\n",
      "3587/3587 [==============================] - 1s 209us/step - loss: 0.5609 - acc: 0.7255 - val_loss: 0.6250 - val_acc: 0.6929\n",
      "Epoch 50/200\n",
      "3587/3587 [==============================] - 1s 216us/step - loss: 0.5551 - acc: 0.7346 - val_loss: 0.6373 - val_acc: 0.6873\n",
      "Epoch 51/200\n",
      "3587/3587 [==============================] - 1s 218us/step - loss: 0.5544 - acc: 0.7294 - val_loss: 0.6280 - val_acc: 0.6912\n",
      "Epoch 52/200\n",
      "3587/3587 [==============================] - 1s 266us/step - loss: 0.5540 - acc: 0.7356 - val_loss: 0.6364 - val_acc: 0.6851\n",
      "Epoch 53/200\n",
      "3587/3587 [==============================] - 1s 252us/step - loss: 0.5535 - acc: 0.7299 - val_loss: 0.6284 - val_acc: 0.6851\n",
      "Epoch 54/200\n",
      "3587/3587 [==============================] - 1s 233us/step - loss: 0.5493 - acc: 0.7370 - val_loss: 0.6474 - val_acc: 0.6929\n",
      "Epoch 55/200\n",
      "3587/3587 [==============================] - 1s 214us/step - loss: 0.5494 - acc: 0.7399 - val_loss: 0.6480 - val_acc: 0.6945\n",
      "Epoch 56/200\n",
      "3587/3587 [==============================] - 1s 239us/step - loss: 0.5627 - acc: 0.7306 - val_loss: 0.6334 - val_acc: 0.6890\n",
      "Epoch 57/200\n",
      "3587/3587 [==============================] - 1s 262us/step - loss: 0.5529 - acc: 0.7303 - val_loss: 0.6329 - val_acc: 0.6895\n",
      "Epoch 58/200\n",
      "3587/3587 [==============================] - 1s 251us/step - loss: 0.5459 - acc: 0.7384 - val_loss: 0.6414 - val_acc: 0.6901\n",
      "Epoch 59/200\n",
      "3587/3587 [==============================] - 1s 221us/step - loss: 0.5484 - acc: 0.7363 - val_loss: 0.6433 - val_acc: 0.6901\n",
      "Epoch 60/200\n"
     ]
    },
    {
     "name": "stdout",
     "output_type": "stream",
     "text": [
      "3587/3587 [==============================] - 1s 238us/step - loss: 0.5534 - acc: 0.7340 - val_loss: 0.6321 - val_acc: 0.6912\n",
      "Epoch 61/200\n",
      "3587/3587 [==============================] - 1s 286us/step - loss: 0.5453 - acc: 0.7411 - val_loss: 0.6357 - val_acc: 0.6906\n",
      "Epoch 62/200\n",
      "3587/3587 [==============================] - 1s 205us/step - loss: 0.5443 - acc: 0.7400 - val_loss: 0.6320 - val_acc: 0.6945\n",
      "Epoch 63/200\n",
      "3587/3587 [==============================] - 1s 209us/step - loss: 0.5413 - acc: 0.7398 - val_loss: 0.6489 - val_acc: 0.6945\n",
      "Epoch 64/200\n",
      "3587/3587 [==============================] - 1s 212us/step - loss: 0.5346 - acc: 0.7445 - val_loss: 0.6460 - val_acc: 0.7018\n",
      "Epoch 65/200\n",
      "3587/3587 [==============================] - 1s 199us/step - loss: 0.5399 - acc: 0.7431 - val_loss: 0.6430 - val_acc: 0.6951\n",
      "Epoch 66/200\n",
      "3587/3587 [==============================] - 1s 235us/step - loss: 0.5419 - acc: 0.7400 - val_loss: 0.6442 - val_acc: 0.6979\n",
      "Epoch 67/200\n",
      "3587/3587 [==============================] - 1s 235us/step - loss: 0.5442 - acc: 0.7393 - val_loss: 0.6531 - val_acc: 0.6929\n",
      "Epoch 68/200\n",
      "3587/3587 [==============================] - 1s 229us/step - loss: 0.5493 - acc: 0.7368 - val_loss: 0.6400 - val_acc: 0.6951\n",
      "Epoch 69/200\n",
      "3587/3587 [==============================] - 1s 241us/step - loss: 0.5433 - acc: 0.7386 - val_loss: 0.6539 - val_acc: 0.6996\n",
      "Epoch 70/200\n",
      "3587/3587 [==============================] - 1s 249us/step - loss: 0.5346 - acc: 0.7432 - val_loss: 0.6398 - val_acc: 0.6996\n",
      "Epoch 71/200\n",
      "3587/3587 [==============================] - 1s 230us/step - loss: 0.5331 - acc: 0.7414 - val_loss: 0.6405 - val_acc: 0.6951\n",
      "Epoch 72/200\n",
      "3587/3587 [==============================] - 1s 253us/step - loss: 0.5297 - acc: 0.7501 - val_loss: 0.6623 - val_acc: 0.6968\n",
      "Epoch 73/200\n",
      "3587/3587 [==============================] - 1s 271us/step - loss: 0.5355 - acc: 0.7480 - val_loss: 0.6618 - val_acc: 0.7001\n",
      "Epoch 74/200\n",
      "3587/3587 [==============================] - 1s 261us/step - loss: 0.5337 - acc: 0.7452 - val_loss: 0.6529 - val_acc: 0.7018\n",
      "Epoch 75/200\n",
      "3587/3587 [==============================] - 1s 267us/step - loss: 0.5340 - acc: 0.7442 - val_loss: 0.6512 - val_acc: 0.6968\n",
      "Epoch 76/200\n",
      "3587/3587 [==============================] - 1s 259us/step - loss: 0.5294 - acc: 0.7503 - val_loss: 0.6531 - val_acc: 0.7012\n",
      "Epoch 77/200\n",
      "3587/3587 [==============================] - 1s 252us/step - loss: 0.5266 - acc: 0.7463 - val_loss: 0.6602 - val_acc: 0.7012\n",
      "Epoch 78/200\n",
      "3587/3587 [==============================] - 1s 226us/step - loss: 0.5251 - acc: 0.7530 - val_loss: 0.6501 - val_acc: 0.6996\n",
      "Epoch 79/200\n",
      "3587/3587 [==============================] - 1s 269us/step - loss: 0.5165 - acc: 0.7519 - val_loss: 0.6662 - val_acc: 0.6962\n",
      "Epoch 80/200\n",
      "3587/3587 [==============================] - 1s 257us/step - loss: 0.5208 - acc: 0.7543 - val_loss: 0.6527 - val_acc: 0.6940\n",
      "Epoch 81/200\n",
      "3587/3587 [==============================] - 1s 274us/step - loss: 0.5219 - acc: 0.7517 - val_loss: 0.6435 - val_acc: 0.7007\n",
      "Epoch 82/200\n",
      "3587/3587 [==============================] - 1s 267us/step - loss: 0.5248 - acc: 0.7490 - val_loss: 0.6472 - val_acc: 0.6973\n",
      "Epoch 83/200\n",
      "3587/3587 [==============================] - 1s 233us/step - loss: 0.5243 - acc: 0.7464 - val_loss: 0.6598 - val_acc: 0.6996\n",
      "Epoch 84/200\n",
      "3587/3587 [==============================] - 1s 305us/step - loss: 0.5259 - acc: 0.7490 - val_loss: 0.6601 - val_acc: 0.6962\n",
      "Epoch 85/200\n",
      "3587/3587 [==============================] - 1s 265us/step - loss: 0.5180 - acc: 0.7469 - val_loss: 0.6604 - val_acc: 0.6962\n",
      "Epoch 86/200\n",
      "3587/3587 [==============================] - 1s 237us/step - loss: 0.5122 - acc: 0.7583 - val_loss: 0.6669 - val_acc: 0.6951\n",
      "Epoch 87/200\n",
      "3587/3587 [==============================] - 1s 262us/step - loss: 0.5104 - acc: 0.7566 - val_loss: 0.6709 - val_acc: 0.6984\n",
      "Epoch 88/200\n",
      "3587/3587 [==============================] - 1s 251us/step - loss: 0.5174 - acc: 0.7559 - val_loss: 0.6828 - val_acc: 0.6878\n",
      "Epoch 89/200\n",
      "3587/3587 [==============================] - 1s 235us/step - loss: 0.5131 - acc: 0.7590 - val_loss: 0.6586 - val_acc: 0.7046\n",
      "Epoch 90/200\n",
      "3587/3587 [==============================] - 1s 226us/step - loss: 0.5099 - acc: 0.7580 - val_loss: 0.6653 - val_acc: 0.6984\n",
      "Epoch 91/200\n",
      "3587/3587 [==============================] - 1s 249us/step - loss: 0.5144 - acc: 0.7616 - val_loss: 0.6535 - val_acc: 0.6951\n",
      "Epoch 92/200\n",
      "3587/3587 [==============================] - 1s 254us/step - loss: 0.5146 - acc: 0.7563 - val_loss: 0.6529 - val_acc: 0.7007\n",
      "Epoch 93/200\n",
      "3587/3587 [==============================] - 1s 247us/step - loss: 0.5069 - acc: 0.7625 - val_loss: 0.6519 - val_acc: 0.7023\n",
      "Epoch 94/200\n",
      "3587/3587 [==============================] - 1s 247us/step - loss: 0.5176 - acc: 0.7582 - val_loss: 0.6435 - val_acc: 0.7040\n",
      "Epoch 95/200\n",
      "3587/3587 [==============================] - 1s 253us/step - loss: 0.5050 - acc: 0.7662 - val_loss: 0.6662 - val_acc: 0.7090\n",
      "Epoch 96/200\n",
      "3587/3587 [==============================] - 1s 198us/step - loss: 0.4967 - acc: 0.7724 - val_loss: 0.6754 - val_acc: 0.7040\n",
      "Epoch 97/200\n",
      "3587/3587 [==============================] - 1s 218us/step - loss: 0.5005 - acc: 0.7683 - val_loss: 0.6658 - val_acc: 0.7057\n",
      "Epoch 98/200\n",
      "3587/3587 [==============================] - 1s 227us/step - loss: 0.5095 - acc: 0.7615 - val_loss: 0.6419 - val_acc: 0.7068\n",
      "Epoch 99/200\n",
      "3587/3587 [==============================] - 1s 211us/step - loss: 0.5116 - acc: 0.7551 - val_loss: 0.6464 - val_acc: 0.7040\n",
      "Epoch 100/200\n",
      "3587/3587 [==============================] - 1s 259us/step - loss: 0.4998 - acc: 0.7678 - val_loss: 0.6633 - val_acc: 0.7023\n",
      "Epoch 101/200\n",
      "3587/3587 [==============================] - 1s 263us/step - loss: 0.5043 - acc: 0.7591 - val_loss: 0.6629 - val_acc: 0.7046\n",
      "Epoch 102/200\n",
      "3587/3587 [==============================] - 1s 238us/step - loss: 0.5058 - acc: 0.7595 - val_loss: 0.6604 - val_acc: 0.7057\n",
      "Epoch 103/200\n",
      "3587/3587 [==============================] - 1s 292us/step - loss: 0.5024 - acc: 0.7637 - val_loss: 0.6590 - val_acc: 0.7051\n",
      "Epoch 104/200\n",
      "3587/3587 [==============================] - 1s 299us/step - loss: 0.4975 - acc: 0.7710 - val_loss: 0.6531 - val_acc: 0.7062\n",
      "Epoch 105/200\n",
      "3587/3587 [==============================] - 1s 283us/step - loss: 0.4961 - acc: 0.7669 - val_loss: 0.6428 - val_acc: 0.7101\n",
      "Epoch 106/200\n",
      "3587/3587 [==============================] - 1s 288us/step - loss: 0.4956 - acc: 0.7647 - val_loss: 0.6707 - val_acc: 0.6951\n"
     ]
    }
   ],
   "source": [
    "X_train_lstm = np.reshape(X_train, (X_train.shape[0],1, X_train.shape[1]))\n",
    "X_test_lstm = np.reshape(X_test, (X_test.shape[0],1 ,X_test.shape[1]))\n",
    "import tensorflow as tf\n",
    "with tf.device('/gpu:0'):\n",
    "    checker = classifier.fit(X_train_lstm, Y_train, batch_size=32, epochs=200, validation_data = (X_test_lstm, Y_test))\n"
   ]
  },
  {
   "cell_type": "code",
   "execution_count": null,
   "metadata": {},
   "outputs": [],
   "source": [
    "Y_pred_test_label = classifier.predict(X_test_lstm)\n",
    "y_pred_test=np.argmax(Y_pred_test_label,axis =1)\n",
    "y_pred_test\n",
    "Y_pred_train_label = classifier.predict(X_train_lstm)\n",
    "y_pred_train = np.argmax(Y_pred_train_label,axis=1)\n",
    "Y_test_true = Y_test_org.astype(np.int)\n",
    "Y_train_true = Y_train_org.astype(np.int)"
   ]
  },
  {
   "cell_type": "code",
   "execution_count": null,
   "metadata": {},
   "outputs": [],
   "source": [
    "from sklearn.metrics import classification_report\n",
    "print(classification_report(Y_test_true,y_pred_test))"
   ]
  },
  {
   "cell_type": "code",
   "execution_count": null,
   "metadata": {},
   "outputs": [],
   "source": [
    "from sklearn.metrics import confusion_matrix"
   ]
  },
  {
   "cell_type": "code",
   "execution_count": null,
   "metadata": {},
   "outputs": [],
   "source": [
    "### for softmax function\n",
    "print(\"TRAIN:  \\n\",confusion_matrix(y_pred_train,Y_train_true))\n",
    "print(\"\\nTest:  \\n\",confusion_matrix(y_pred_test,Y_test_true))"
   ]
  },
  {
   "cell_type": "code",
   "execution_count": null,
   "metadata": {},
   "outputs": [],
   "source": [
    "print(classification_report(Y_train_true,y_pred_train))"
   ]
  },
  {
   "cell_type": "code",
   "execution_count": null,
   "metadata": {},
   "outputs": [],
   "source": []
  }
 ],
 "metadata": {
  "kernelspec": {
   "display_name": "Python 3",
   "language": "python",
   "name": "python3"
  },
  "language_info": {
   "codemirror_mode": {
    "name": "ipython",
    "version": 3
   },
   "file_extension": ".py",
   "mimetype": "text/x-python",
   "name": "python",
   "nbconvert_exporter": "python",
   "pygments_lexer": "ipython3",
   "version": "3.6.5"
  }
 },
 "nbformat": 4,
 "nbformat_minor": 2
}
